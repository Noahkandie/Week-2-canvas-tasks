{
  "nbformat": 4,
  "nbformat_minor": 0,
  "metadata": {
    "colab": {
      "name": "Copy of Python Programming: Dictionaries",
      "provenance": [],
      "collapsed_sections": [
        "aEqAjTGi3E3b",
        "a90lkqj_3IZr",
        "49K6mQJg7yUh",
        "UU3YIJYI3gwc",
        "7tzKw6l87-5h",
        "hzmMe5TP32ra",
        "Hp9Jaf8V8PE1",
        "50S5D_qI3kDD",
        "mqnSUp-a8I65",
        "Amb1Bsrbwx6C",
        "1OFB5fL1w6TM",
        "GDrqXhcWzs6s",
        "zN0YcqMmzwGU",
        "t3HfcEjn306L",
        "ZSQ6Uyb98jUU"
      ],
      "toc_visible": true
    },
    "kernelspec": {
      "name": "python3",
      "display_name": "Python 3"
    }
  },
  "cells": [
    {
      "cell_type": "markdown",
      "metadata": {
        "id": "eOm53BqKoYpl"
      },
      "source": [
        "<font color=\"green\">*To start working on this notebook, or any other notebook that we will use in this course, we will need to save our own copy of it. We can do this by clicking File > Save a Copy in Drive. We will then be able to make edits to our own copy of this notebook.*</font>\n",
        "\n",
        "---\n",
        "\n"
      ]
    },
    {
      "cell_type": "markdown",
      "metadata": {
        "id": "w2gnEI4V253l"
      },
      "source": [
        "# Python Programming: Dictionaries"
      ]
    },
    {
      "cell_type": "markdown",
      "metadata": {
        "id": "aEqAjTGi3E3b"
      },
      "source": [
        "## 1.0 Overview\n"
      ]
    },
    {
      "cell_type": "markdown",
      "metadata": {
        "id": "nJhH3J6y3dBD"
      },
      "source": [
        "A dictionary is a collection of key-value pairs, which are unordered, changeable and indexed. Curly brackets are used when writing a dictionary."
      ]
    },
    {
      "cell_type": "markdown",
      "metadata": {
        "id": "a90lkqj_3IZr"
      },
      "source": [
        "## 1.1 Creating a Dictionary"
      ]
    },
    {
      "cell_type": "code",
      "metadata": {
        "id": "8XQMBtIU7EoL",
        "colab": {
          "base_uri": "https://localhost:8080/"
        },
        "outputId": "823b5449-ce37-4633-a5c9-671c6018951e"
      },
      "source": [
        "# Example 1\n",
        "# We can create a dictionary by placing a sequence of elements within curly braces, \n",
        "# separated by commas as show in the following example.\n",
        "# Let's create a dictionary my_new_friend\n",
        "# \n",
        "my_new_friend = {\n",
        "    'name':'Femi', \n",
        "    'age': 24\n",
        "}\n",
        "\n",
        "# print \n",
        "print(my_new_friend)"
      ],
      "execution_count": null,
      "outputs": [
        {
          "output_type": "stream",
          "text": [
            "{'name': 'Femi', 'age': 24}\n"
          ],
          "name": "stdout"
        }
      ]
    },
    {
      "cell_type": "code",
      "metadata": {
        "id": "dg_8-2YO7EE3",
        "colab": {
          "base_uri": "https://localhost:8080/"
        },
        "outputId": "5ac65274-929a-4803-820f-5bc702cae98c"
      },
      "source": [
        "# Example 2\n",
        "# Let's create another dictionary car with keys; brand, model and year\n",
        "# \n",
        "car =\t{\n",
        "  'brand': 'Toyota',\n",
        "  'model': 'Prado',\n",
        "  'year': 2007\n",
        "}\n",
        "\n",
        "# Then display it to see what the dictionary contains\n",
        "print(car)"
      ],
      "execution_count": null,
      "outputs": [
        {
          "output_type": "stream",
          "text": [
            "{'brand': 'Toyota', 'model': 'Prado', 'year': 2007}\n"
          ],
          "name": "stdout"
        }
      ]
    },
    {
      "cell_type": "code",
      "metadata": {
        "id": "KiVcQaXH7D0R",
        "colab": {
          "base_uri": "https://localhost:8080/"
        },
        "outputId": "72afc1f1-2ce6-4435-a2c1-0a0aeb1b497b"
      },
      "source": [
        "# Example 3\n",
        "# Let's create another dictionary\n",
        "#\n",
        "our_class = {\n",
        "    'Name': '7 East', \n",
        "    'Students': 27, \n",
        "    'Wing': 'East'\n",
        "}\n",
        "\n",
        "# printing out our_class\n",
        "print(our_class)"
      ],
      "execution_count": null,
      "outputs": [
        {
          "output_type": "stream",
          "text": [
            "{'Name': '7 East', 'Students': 27, 'Wing': 'East'}\n"
          ],
          "name": "stdout"
        }
      ]
    },
    {
      "cell_type": "markdown",
      "metadata": {
        "id": "49K6mQJg7yUh"
      },
      "source": [
        "### 1.1 Challenges"
      ]
    },
    {
      "cell_type": "code",
      "metadata": {
        "id": "v5e2By6E76hW",
        "colab": {
          "base_uri": "https://localhost:8080/"
        },
        "outputId": "a4bafc6f-4080-4f92-ed1b-825de89a226d"
      },
      "source": [
        "# Challenge 1\n",
        "# Create a dictionary family with keys i.e. father,\n",
        "# mother, son and daughter. You can add values of your family\n",
        "# to the key values\n",
        "# \n",
        "family = {\n",
        "    'Father': 'Harun', \n",
        "    'Mother': 'Esther', \n",
        "    'Daughter':'Ruth',\n",
        "    'Son': 'Abel'   \n",
        "}\n",
        "\n",
        "print(family)"
      ],
      "execution_count": null,
      "outputs": [
        {
          "output_type": "stream",
          "text": [
            "{'Father': 'Harun', 'Mother': 'Esther', 'Daughter': 'Ruth', 'Son': 'Abel'}\n"
          ],
          "name": "stdout"
        }
      ]
    },
    {
      "cell_type": "code",
      "metadata": {
        "id": "tpBdeH5275i9",
        "colab": {
          "base_uri": "https://localhost:8080/"
        },
        "outputId": "f88d0cb5-b8a1-41fc-cb9f-e1280ae470af"
      },
      "source": [
        "# Challenge 2\n",
        "# Create a dictionary name powers_dictionary using numbers 1-5 as keys \n",
        "# and their square power as values.  \n",
        "#\n",
        "powers_dictionary={\n",
        "    1:1,\n",
        "    2:4,\n",
        "    3:9,\n",
        "    4:16,\n",
        "    5:25\n",
        "}\n",
        "print(powers_dictionary)"
      ],
      "execution_count": null,
      "outputs": [
        {
          "output_type": "stream",
          "text": [
            "{1: 1, 2: 4, 3: 9, 4: 16, 5: 25}\n"
          ],
          "name": "stdout"
        }
      ]
    },
    {
      "cell_type": "code",
      "metadata": {
        "id": "yf9bGNKEKsFF",
        "colab": {
          "base_uri": "https://localhost:8080/"
        },
        "outputId": "a59eed43-28a7-4c64-f94f-f30a334deaed"
      },
      "source": [
        "# Challenge 3\n",
        "# A caterer offers three different food packages; \n",
        "# bronze package: starch:rice stew:chicken curry vegetable:cabbages desert:melon\n",
        "# silver package: starch:rice and chappati  stew:beef curry vegetable:spinach desert:melon and bananas\n",
        "# gold package: starch:rice, chappati and mukimo stew: beef curry vegetable:spinach and managu desert: tart\n",
        "# Create a dictionary that stores the above information then preview it\n",
        "# Hint: You can store a dictionary within a dictionary \n",
        "# \n",
        "food_packages={\n",
        "    'bronze_package':{\n",
        "        'starch':'rice',\n",
        "        'stew':'chicken curry',\n",
        "        'vegetable':'cabbages',\n",
        "        'desert':'melon'\n",
        "    },\n",
        "    'silver_package':{\n",
        "        'starch':'rice,chapati',\n",
        "        'stew':'beef curry',\n",
        "        'vegetable':'spinach',\n",
        "        'desert':'melon, bananas'\n",
        "    },\n",
        "    'gold_package':{\n",
        "        'starch':'rice, chapati ,mukimo stew',\n",
        "        'stew':'beef curry',\n",
        "        'vegetable':'spinach,  managu',\n",
        "        'desert':'tart'\n",
        "}\n",
        "}\n",
        "print(food_packages)"
      ],
      "execution_count": null,
      "outputs": [
        {
          "output_type": "stream",
          "text": [
            "{'bronze_package': {'starch': 'rice', 'stew': 'chicken curry', 'vegetable': 'cabbages', 'desert': 'melon'}, 'silver_package': {'starch': 'rice,chapati', 'stew': 'beef curry', 'vegetable': 'spinach', 'desert': 'melon, bananas'}, 'gold_package': {'starch': 'rice, chapati ,mukimo stew', 'stew': 'beef curry', 'vegetable': 'spinach,  managu', 'desert': 'tart'}}\n"
          ],
          "name": "stdout"
        }
      ]
    },
    {
      "cell_type": "markdown",
      "metadata": {
        "id": "UU3YIJYI3gwc"
      },
      "source": [
        "## 1.2 Adding Elements to a Dictionary"
      ]
    },
    {
      "cell_type": "code",
      "metadata": {
        "id": "t-dKvalj7F44",
        "colab": {
          "base_uri": "https://localhost:8080/"
        },
        "outputId": "24a25814-69ef-4cd5-b7a5-8fed8725322f"
      },
      "source": [
        "# Example 1 \n",
        "# Adding a residence to my_new_friend dictionary that we had initially created\n",
        "# \n",
        "my_new_friend['residence'] = 'Nairobi'  \n",
        "\n",
        "# print out my_new_friend\n",
        "print(my_new_friend)"
      ],
      "execution_count": null,
      "outputs": [
        {
          "output_type": "stream",
          "text": [
            "{'name': 'Femi', 'age': 24, 'residence': 'Nairobi'}\n"
          ],
          "name": "stdout"
        }
      ]
    },
    {
      "cell_type": "code",
      "metadata": {
        "id": "FsS9Ns-b7FnE",
        "colab": {
          "base_uri": "https://localhost:8080/"
        },
        "outputId": "9159cbfd-ad72-44db-cead-fb7042cd82b6"
      },
      "source": [
        "# Example 2\n",
        "# We now add color to our car dictionary\n",
        "#\n",
        "car[\"color\"] = \"light gray\"\n",
        "\n",
        "# and print out our dictionary\n",
        "print(car)"
      ],
      "execution_count": null,
      "outputs": [
        {
          "output_type": "stream",
          "text": [
            "{'brand': 'Toyota', 'model': 'Prado', 'year': 2007, 'color': 'light gray'}\n"
          ],
          "name": "stdout"
        }
      ]
    },
    {
      "cell_type": "code",
      "metadata": {
        "id": "GFY3EYiO7FcZ",
        "colab": {
          "base_uri": "https://localhost:8080/"
        },
        "outputId": "bb5b3c62-7a55-47b7-90a7-24e969165043"
      },
      "source": [
        "# Example 3\n",
        "# Adding the school to the dictionary\n",
        "#\n",
        "our_class['School'] = \"Moringa School\";\n",
        "\n",
        "# printing out our class to see the updates\n",
        "print(our_class)"
      ],
      "execution_count": null,
      "outputs": [
        {
          "output_type": "stream",
          "text": [
            "{'Name': '7 East', 'Students': 27, 'Wing': 'East', 'School': 'Moringa School'}\n"
          ],
          "name": "stdout"
        }
      ]
    },
    {
      "cell_type": "markdown",
      "metadata": {
        "id": "7tzKw6l87-5h"
      },
      "source": [
        "### 1.2 Challenges"
      ]
    },
    {
      "cell_type": "code",
      "metadata": {
        "id": "jqbEx0BU8EL4",
        "colab": {
          "base_uri": "https://localhost:8080/"
        },
        "outputId": "f4a4e8cf-af64-4e23-d360-f9403892b93b"
      },
      "source": [
        "# Challenge 1: \n",
        "# Naivas Supermarket sells two products: bread and milk. \n",
        "# A loaf of bread weighs 400 grams. Each packet of milk is 0.5 litre. \n",
        "# Write a program that reads the number of bread \n",
        "# and the number of packets of milk in an order from the user. \n",
        "# Then your program should compute and display the total quantity of the order.\n",
        "# You should store the order in the dictionary and \n",
        "# prompt the user for another input.\n",
        "# \n",
        "bread_n= (input(\"Number of loaves of bread: \"))\n",
        "milk_n=(input(\"Number of packets of milk: \"))\n",
        "\n",
        "total_order={\n",
        "    \"Number of loaves\": bread_n,                 \n",
        "    \"Number of milk packets\":milk_n,\n",
        "                  }\n",
        "print(total_order)\n"
      ],
      "execution_count": null,
      "outputs": [
        {
          "output_type": "stream",
          "text": [
            "Number of loaves of bread: 10\n",
            "Number of packets of milk: 2\n",
            "{'Number of loaves': '10', 'Number of milk packets': '2'}\n"
          ],
          "name": "stdout"
        }
      ]
    },
    {
      "cell_type": "code",
      "metadata": {
        "id": "gQTOkgy2kgLT",
        "colab": {
          "base_uri": "https://localhost:8080/"
        },
        "outputId": "65d6421a-d0b4-4cb6-aa6e-a96afd41cfa0"
      },
      "source": [
        "# Challenge 2:\n",
        "# Two words are anagrams if they contain all of the same letters, \n",
        "# but in a different order. For example, “evil” and “live” \n",
        "# are anagrams because each contains one e, one i, one l, and one v. \n",
        "# Create a program that reads two strings from the user, determines\n",
        "# whether or not they are anagrams, stores and reports the result.\n",
        "# Use a dictionary to solve this problem.\n",
        "# \n",
        "word1= str(input(\"Input word 1: \"))\n",
        "word2= str(input('Input word 2: '))\n",
        "\n",
        "word_dict={\n",
        "    \"Word 1 is \": word1,                 \n",
        "    \"Word 2 is \":word2,\n",
        "                  }\n",
        "\n",
        "if (sorted(word1)==sorted(word2)):\n",
        "    print(\"The strings are anagrams\")\n",
        "else:\n",
        "    print('The strings are not anagrams')\n",
        "                  \n",
        "\n"
      ],
      "execution_count": null,
      "outputs": [
        {
          "output_type": "stream",
          "text": [
            "Input word 1: 1\n",
            "Input word 2: 2\n",
            "The strings are not anagrams\n"
          ],
          "name": "stdout"
        }
      ]
    },
    {
      "cell_type": "code",
      "metadata": {
        "id": "3pcE1f56f87G",
        "colab": {
          "base_uri": "https://localhost:8080/"
        },
        "outputId": "3020ae24-659a-4a73-d5bb-d76a21c4f480"
      },
      "source": [
        "# Challenge 3:\n",
        "# Create a program that determines and displays \n",
        "# the number of characters in a string entered by the user. \n",
        "# For example, \"Hello, World!\" has 13  characters while \n",
        "# abc has only three character. \n",
        "# Use a dictionary to solve this problem.\n",
        "# \n",
        "user_string=input('Input a string: ')\n",
        "user_dict={'The string is':user_string\n",
        "    \n",
        "}\n",
        "char_str=len(user_string)\n",
        "print('The number of characters in a string is: ',char_str)"
      ],
      "execution_count": null,
      "outputs": [
        {
          "output_type": "stream",
          "text": [
            "Input a string: hufyiu\n",
            "The number of characters in a string is:  6\n"
          ],
          "name": "stdout"
        }
      ]
    },
    {
      "cell_type": "markdown",
      "metadata": {
        "id": "hzmMe5TP32ra"
      },
      "source": [
        "## 1.3 Updating Elements in a Dictionary"
      ]
    },
    {
      "cell_type": "code",
      "metadata": {
        "id": "J66GyFzt7I_X",
        "colab": {
          "base_uri": "https://localhost:8080/"
        },
        "outputId": "c91289c9-2f6b-40a3-b57e-877c9a5af729"
      },
      "source": [
        "# Example 1\n",
        "# Let's update age on the dictionary my_new_friend \n",
        "#\n",
        "my_new_friend['age'] = 24\n",
        "\n",
        "# print out\n",
        "print(my_new_friend)"
      ],
      "execution_count": null,
      "outputs": [
        {
          "output_type": "stream",
          "text": [
            "{'name': 'Femi', 'age': 24, 'residence': 'Nairobi'}\n"
          ],
          "name": "stdout"
        }
      ]
    },
    {
      "cell_type": "code",
      "metadata": {
        "id": "zhJabm-I7Jr4",
        "colab": {
          "base_uri": "https://localhost:8080/"
        },
        "outputId": "98e7c054-eb8e-43e6-d6b1-92670b6a4f9d"
      },
      "source": [
        "# Example 2\n",
        "# Let's update our dictionary my_new_friend\n",
        "#\n",
        "car[\"color\"] = \"light gray\"\n",
        "\n",
        "# and print out our dictionary\n",
        "print(car)"
      ],
      "execution_count": null,
      "outputs": [
        {
          "output_type": "stream",
          "text": [
            "{'brand': 'Toyota', 'model': 'Prado', 'year': 2007, 'color': 'light gray'}\n"
          ],
          "name": "stdout"
        }
      ]
    },
    {
      "cell_type": "code",
      "metadata": {
        "id": "PbbAVPsO7JfJ",
        "colab": {
          "base_uri": "https://localhost:8080/"
        },
        "outputId": "723c07da-bc83-441b-9513-88962b81cdb9"
      },
      "source": [
        "# Example 3\n",
        "# Updating our class \n",
        "#\n",
        "our_class['Students'] = 29;\n",
        "\n",
        "# printing out our class to see the updates\n",
        "print(our_class)"
      ],
      "execution_count": null,
      "outputs": [
        {
          "output_type": "stream",
          "text": [
            "{'Name': '7 East', 'Students': 29, 'Wing': 'East', 'School': 'Moringa School'}\n"
          ],
          "name": "stdout"
        }
      ]
    },
    {
      "cell_type": "markdown",
      "metadata": {
        "id": "Hp9Jaf8V8PE1"
      },
      "source": [
        "### 1.3 Challenges"
      ]
    },
    {
      "cell_type": "code",
      "metadata": {
        "id": "LcK4RI6K8Qrp",
        "colab": {
          "base_uri": "https://localhost:8080/"
        },
        "outputId": "83298a46-b818-4ca7-9176-14e2f96c2c00"
      },
      "source": [
        "# Challenge 1\n",
        "# Let's update the value of the son and daughter keys of the family dictionary \n",
        "# that we had earlier on created\n",
        "#\n",
        "family['Son']='Abelito'\n",
        "family['Daughter']='Damaris'\n",
        "print(family)"
      ],
      "execution_count": null,
      "outputs": [
        {
          "output_type": "stream",
          "text": [
            "{'Father': 'Harun', 'Mother': 'Esther', 'Daughter': 'Damaris', 'Son': 'Abelito'}\n"
          ],
          "name": "stdout"
        }
      ]
    },
    {
      "cell_type": "code",
      "metadata": {
        "id": "EEU_gZax8RN6",
        "colab": {
          "base_uri": "https://localhost:8080/"
        },
        "outputId": "31216dec-a0eb-4348-a4b6-59e4fbe69cb0"
      },
      "source": [
        "# Challenge 2\n",
        "# Update value of the gold package in the caterer dictionary to \n",
        "# have vegetable as spinach, cabbage and managu\n",
        "food_packages['gold_package']['vegetable']='Spinach, cabbage, managu'\n",
        "print(food_packages)"
      ],
      "execution_count": null,
      "outputs": [
        {
          "output_type": "stream",
          "text": [
            "{'bronze_package': {'starch': 'rice', 'stew': 'chicken curry', 'vegetable': 'cabbages', 'desert': 'melon'}, 'silver_package': {'starch': 'rice,chapati', 'stew': 'beef curry', 'vegetable': 'spinach', 'desert': 'melon, bananas'}, 'gold_package': {'starch': 'rice, chapati ,mukimo stew', 'stew': 'beef curry', 'vegetable': 'Spinach, cabbage, managu', 'desert': 'tart'}}\n"
          ],
          "name": "stdout"
        }
      ]
    },
    {
      "cell_type": "code",
      "metadata": {
        "id": "jMEwHQI18RCX",
        "colab": {
          "base_uri": "https://localhost:8080/"
        },
        "outputId": "8d0cb41c-9409-437d-dcee-ef9252f4595b"
      },
      "source": [
        "# Challenge 3\n",
        "# Upon creating the Naivas supermarket dictionary program earlier on,\n",
        "# We will now extend the functionality of your program to be able to also update\n",
        "# the quantity of either the bread or packet of milk.\n",
        "# Write another program the will prompt the user to indicate whether they want\n",
        "# to update the quantity of the product or compute the total quantity of the total order.\n",
        "# Using if statements, your program should execute either to the code you had earlier\n",
        "# on written or to the new code for updating that you will now write\n",
        "#\n",
        "bread_n= (input(\"Number of loaves of bread: \"))\n",
        "milk_n=(input(\"Number of packets of milk: \"))\n",
        "total_order={\n",
        "    \"Number of loaves\": bread_n,                 \n",
        "    \"Number of milk packets\":milk_n,\n",
        "                  }\n",
        "print(total_order)\n",
        "\n",
        "#extension\n",
        "\n",
        "update_order = input('Do you want to update the order?')\n",
        "if update_order =='yes':\n",
        "  bread_n_update= (input(\"Input the number of loaves of bread in order: \"))\n",
        "  milk_n_update=(input(\"Input number of packets of milk in order: \"))\n",
        "  total_order_update={\n",
        "    \"Number of loaves\": bread_n_update,                 \n",
        "    \"Number of milk packets\":milk_n_update,\n",
        "  }\n",
        "  print(total_order_update)\n",
        "else:\n",
        "  print(total_order)\n"
      ],
      "execution_count": null,
      "outputs": [
        {
          "output_type": "stream",
          "text": [
            "Number of loaves of bread: 55\n",
            "Number of packets of milk: 1\n",
            "{'Number of loaves': '55', 'Number of milk packets': '1'}\n",
            "Do you want to update the order?No\n",
            "{'Number of loaves': '55', 'Number of milk packets': '1'}\n"
          ],
          "name": "stdout"
        }
      ]
    },
    {
      "cell_type": "markdown",
      "metadata": {
        "id": "50S5D_qI3kDD"
      },
      "source": [
        "## 1.4 Accessing Elements from a Dictionary"
      ]
    },
    {
      "cell_type": "code",
      "metadata": {
        "id": "ZBJa2FHU7Muf",
        "colab": {
          "base_uri": "https://localhost:8080/"
        },
        "outputId": "f4dde02e-5608-456e-aca1-cb4527e48a31"
      },
      "source": [
        "# Example 1\n",
        "# Accessing my_new_friend dictionary \n",
        "#\n",
        "name_a = my_new_friend[\"name\"]\n",
        "\n",
        "# print name_a\n",
        "print(name_a)\n",
        "\n",
        "# or we could also\n",
        "name_b = my_new_friend.get(\"name\")\n",
        "\n",
        "# print name_b\n",
        "print(name_b)"
      ],
      "execution_count": null,
      "outputs": [
        {
          "output_type": "stream",
          "text": [
            "Femi\n",
            "Femi\n"
          ],
          "name": "stdout"
        }
      ]
    },
    {
      "cell_type": "code",
      "metadata": {
        "id": "A8ggbH347NPz",
        "colab": {
          "base_uri": "https://localhost:8080/"
        },
        "outputId": "e2ca5552-7336-4cdf-a77e-29ed8c59d7b9"
      },
      "source": [
        "# Example 2\n",
        "# Accessing the model in the car dictionary\n",
        "#\n",
        "car_a = car[\"model\"]\n",
        "\n",
        "# print car_a\n",
        "print(car_a)\n",
        "\n",
        "# or we could also\n",
        "car_b = car.get(\"model\")\n",
        "\n",
        "# print name_b\n",
        "print(car_b)"
      ],
      "execution_count": null,
      "outputs": [
        {
          "output_type": "stream",
          "text": [
            "Prado\n",
            "Prado\n"
          ],
          "name": "stdout"
        }
      ]
    },
    {
      "cell_type": "code",
      "metadata": {
        "id": "eaZxBKDf7NF4",
        "colab": {
          "base_uri": "https://localhost:8080/"
        },
        "outputId": "49ce8794-ab34-4172-da6a-b31c65fef986"
      },
      "source": [
        "# Example 3\n",
        "# Accessing the name in our_class dictionary\n",
        "#\n",
        "our_class_a = our_class[\"Name\"]\n",
        "\n",
        "# or we could also\n",
        "our_class_b = our_class.get(\"Name\")\n",
        "\n",
        "# print our_class_b \n",
        "print(our_class_b)"
      ],
      "execution_count": null,
      "outputs": [
        {
          "output_type": "stream",
          "text": [
            "7 East\n"
          ],
          "name": "stdout"
        }
      ]
    },
    {
      "cell_type": "markdown",
      "metadata": {
        "id": "mqnSUp-a8I65"
      },
      "source": [
        "### 1.4 Challenges"
      ]
    },
    {
      "cell_type": "code",
      "metadata": {
        "id": "uE_DKh_N8XMj",
        "colab": {
          "base_uri": "https://localhost:8080/"
        },
        "outputId": "eb315a31-e1b8-4b9b-9b0a-afde3369a3b4"
      },
      "source": [
        "# Challenge 1\n",
        "# What is the power of 4 from the powers_dictionary\n",
        "# \n",
        "powers_dictionary4=powers_dictionary[4]\n",
        "print(powers_dictionary4)"
      ],
      "execution_count": null,
      "outputs": [
        {
          "output_type": "stream",
          "text": [
            "16\n"
          ],
          "name": "stdout"
        }
      ]
    },
    {
      "cell_type": "code",
      "metadata": {
        "id": "dt-ZmzrQ8YIM",
        "colab": {
          "base_uri": "https://localhost:8080/"
        },
        "outputId": "aa96f834-2fac-4e7b-99b1-5298bdf47914"
      },
      "source": [
        "# Challenge 2\n",
        "# Let's access the silver package from our caterer dictionary\n",
        "#\n",
        "food_package_silver=food_packages['silver_package']\n",
        "print(food_package_silver)"
      ],
      "execution_count": null,
      "outputs": [
        {
          "output_type": "stream",
          "text": [
            "{'starch': 'rice,chapati', 'stew': 'beef curry', 'vegetable': 'spinach', 'desert': 'melon, bananas'}\n"
          ],
          "name": "stdout"
        }
      ]
    },
    {
      "cell_type": "code",
      "metadata": {
        "id": "xLEaTJdY8X4t",
        "colab": {
          "base_uri": "https://localhost:8080/"
        },
        "outputId": "c2319498-a499-4cfc-c523-2c9583e75e46"
      },
      "source": [
        "# Challenge 3\n",
        "# Access the name of the father from the family dictionary\n",
        "# \n",
        "family1=family['Father']\n",
        "print(family1)"
      ],
      "execution_count": null,
      "outputs": [
        {
          "output_type": "stream",
          "text": [
            "Harun\n"
          ],
          "name": "stdout"
        }
      ]
    },
    {
      "cell_type": "markdown",
      "metadata": {
        "id": "Amb1Bsrbwx6C"
      },
      "source": [
        "## 1.5 Checking if a Key exists"
      ]
    },
    {
      "cell_type": "code",
      "metadata": {
        "id": "bcY3c6DHwwu2",
        "colab": {
          "base_uri": "https://localhost:8080/"
        },
        "outputId": "f9e4e342-91a3-4732-d8ba-44b2780b4c79"
      },
      "source": [
        "# Example 1\n",
        "# We can check if a specified key exists within a dictionary through the use of the `in` keyword;\n",
        "# Let's check if the keyword residence exists in my_new_friend dictionary\n",
        "# \n",
        "if \"residence\" in my_new_friend:\n",
        "  print(\"Yes, the keyword exists in the dictionary\")\n",
        "else:\n",
        "  print('No, the keyword does not exist in the dictionary')"
      ],
      "execution_count": null,
      "outputs": [
        {
          "output_type": "stream",
          "text": [
            "Yes, the keyword exists in the dictionary\n"
          ],
          "name": "stdout"
        }
      ]
    },
    {
      "cell_type": "code",
      "metadata": {
        "id": "KJYTGPMKw52k",
        "colab": {
          "base_uri": "https://localhost:8080/"
        },
        "outputId": "845facc2-be3b-4688-bda3-905139ebc678"
      },
      "source": [
        "# Example 2\n",
        "# Let's check if the keyword year exists in car dictionary\n",
        "#\n",
        "if \"year\" in car:\n",
        "  print(\"Yes, the keyword exists in the dictionary\")\n",
        "else:\n",
        "  print('No, the keyword does not exist in the dictionary')"
      ],
      "execution_count": null,
      "outputs": [
        {
          "output_type": "stream",
          "text": [
            "Yes, the keyword exists in the dictionary\n"
          ],
          "name": "stdout"
        }
      ]
    },
    {
      "cell_type": "code",
      "metadata": {
        "id": "U0sTioBMw5tU",
        "colab": {
          "base_uri": "https://localhost:8080/"
        },
        "outputId": "2269880d-9160-4727-f462-d22c3216aa6a"
      },
      "source": [
        "# Example 3\n",
        "# Checking if the keyword Wing exists in our_class dictionary\n",
        "#\n",
        "if \"Wing\" in our_class:\n",
        "  print(\"Yes, the keyword exists in the dictionary\")\n",
        "else:\n",
        "  print('No, the keyword does not exist in the dictionary')"
      ],
      "execution_count": null,
      "outputs": [
        {
          "output_type": "stream",
          "text": [
            "Yes, the keyword exists in the dictionary\n"
          ],
          "name": "stdout"
        }
      ]
    },
    {
      "cell_type": "markdown",
      "metadata": {
        "id": "1OFB5fL1w6TM"
      },
      "source": [
        "### 1.5 Challenges"
      ]
    },
    {
      "cell_type": "code",
      "metadata": {
        "id": "oUCqFuf_w--X",
        "colab": {
          "base_uri": "https://localhost:8080/"
        },
        "outputId": "098edd15-f8c7-4d3e-e0d7-f2ae83fcf722"
      },
      "source": [
        "# Challenge 1\n",
        "# Does the model key exist in our car dictionary?\n",
        "#\n",
        "if \"model\" in car:\n",
        "  print(\"Yes, the keyword exists in the dictionary\")\n",
        "else:\n",
        "  print('No, the keyword does not exist in the dictionary')\n"
      ],
      "execution_count": null,
      "outputs": [
        {
          "output_type": "stream",
          "text": [
            "Yes, the keyword exists in the dictionary\n"
          ],
          "name": "stdout"
        }
      ]
    },
    {
      "cell_type": "code",
      "metadata": {
        "id": "y2KKTbcmw_jK",
        "colab": {
          "base_uri": "https://localhost:8080/"
        },
        "outputId": "742cf9e4-56e7-497e-c2e6-a30b7005f42c"
      },
      "source": [
        "# Challenge 2\n",
        "# Does te\n",
        "# Let's get the power of 6 from our already created powers dictionary\n",
        "#\n",
        "if 6 in powers_dictionary:\n",
        "  powers_dictionary6 = powers_dictionary[6]\n",
        "  print(powers_dictionary6)\n",
        "else:\n",
        "  print('The power of 6 is not in the database') \n",
        "\n"
      ],
      "execution_count": null,
      "outputs": [
        {
          "output_type": "stream",
          "text": [
            "The power of 6 is not in the database\n"
          ],
          "name": "stdout"
        }
      ]
    },
    {
      "cell_type": "code",
      "metadata": {
        "id": "bGck3KPGw_HE",
        "colab": {
          "base_uri": "https://localhost:8080/"
        },
        "outputId": "eea6b001-4098-4c3f-cdca-d5cb7c442b3b"
      },
      "source": [
        "# Challenge 3\n",
        "# Let's find out if the diamond package exists in the caterer package\n",
        "#\n",
        "if 'diamond_package'in food_packages:\n",
        "  print('The diamond package exists in the caterer package')\n",
        "else:\n",
        "  print('The diamond package doesnt exist in the caterer package')"
      ],
      "execution_count": null,
      "outputs": [
        {
          "output_type": "stream",
          "text": [
            "The diamond package doesnt exist in the caterer package\n"
          ],
          "name": "stdout"
        }
      ]
    },
    {
      "cell_type": "markdown",
      "metadata": {
        "id": "GDrqXhcWzs6s"
      },
      "source": [
        "## 1.6 The No. of elements in a Dictionary"
      ]
    },
    {
      "cell_type": "code",
      "metadata": {
        "id": "mQMc9N3TzvUA",
        "colab": {
          "base_uri": "https://localhost:8080/"
        },
        "outputId": "fbbbed53-db3b-4e88-83f7-bf0be2f8fb78"
      },
      "source": [
        "# Example 1\n",
        "# We can use keyword `len()` to determine how many items (key - value pairs) there are in the dictionary.\n",
        "# Finding out how many items there are in the my_new_friend dictionary\n",
        "#\n",
        "print(len(my_new_friend))"
      ],
      "execution_count": null,
      "outputs": [
        {
          "output_type": "stream",
          "text": [
            "3\n"
          ],
          "name": "stdout"
        }
      ]
    },
    {
      "cell_type": "code",
      "metadata": {
        "id": "YJbVoIfzzvkC",
        "colab": {
          "base_uri": "https://localhost:8080/"
        },
        "outputId": "c1f58c44-d544-4a32-828f-ec233d4233be"
      },
      "source": [
        "# Example 2\n",
        "# Finding out how many items there are in the car dictionary\n",
        "#\n",
        "print(len(car))"
      ],
      "execution_count": null,
      "outputs": [
        {
          "output_type": "stream",
          "text": [
            "4\n"
          ],
          "name": "stdout"
        }
      ]
    },
    {
      "cell_type": "code",
      "metadata": {
        "id": "ubNhcSttz050",
        "colab": {
          "base_uri": "https://localhost:8080/"
        },
        "outputId": "0bdef5f3-97cd-47b7-8a8c-91238db68694"
      },
      "source": [
        "# Example 3\n",
        "# Finding out how many items there are in the our_class dictionary\n",
        "#\n",
        "print(len(our_class))"
      ],
      "execution_count": null,
      "outputs": [
        {
          "output_type": "stream",
          "text": [
            "4\n"
          ],
          "name": "stdout"
        }
      ]
    },
    {
      "cell_type": "markdown",
      "metadata": {
        "id": "zN0YcqMmzwGU"
      },
      "source": [
        "### 1.6 Challenges"
      ]
    },
    {
      "cell_type": "code",
      "metadata": {
        "id": "9SWkSQvnz2bh",
        "colab": {
          "base_uri": "https://localhost:8080/"
        },
        "outputId": "25e97628-01e5-47b0-9be1-cef0bd031bd7"
      },
      "source": [
        "# Challenge 1\n",
        "# Using the family dictionary, let's determine how many family members there are in the family?\n",
        "#\n",
        "print(len(family))"
      ],
      "execution_count": null,
      "outputs": [
        {
          "output_type": "stream",
          "text": [
            "4\n"
          ],
          "name": "stdout"
        }
      ]
    },
    {
      "cell_type": "code",
      "metadata": {
        "id": "GKXla2_Qz2Lx",
        "colab": {
          "base_uri": "https://localhost:8080/"
        },
        "outputId": "3bf35bff-4e3d-4806-8867-251ac3f3aef9"
      },
      "source": [
        "# Challenge 2\n",
        "# How many items have we stored in our anagrams dictionary?\n",
        "# \n",
        "word1= str(input(\"Input word 1: \"))\n",
        "word2= str(input('Input word 2: '))\n",
        "\n",
        "word_dict={\n",
        "    \"Word 1 is \": word1,                 \n",
        "    \"Word 2 is \":word2,\n",
        "                  }\n",
        "print(len(word_dict))"
      ],
      "execution_count": null,
      "outputs": [
        {
          "output_type": "stream",
          "text": [
            "Input word 1:  jjHDjzK\n",
            "Input word 2: lkzgLK\n",
            "2\n"
          ],
          "name": "stdout"
        }
      ]
    },
    {
      "cell_type": "code",
      "metadata": {
        "id": "y1Yc0df-z2AG",
        "colab": {
          "base_uri": "https://localhost:8080/"
        },
        "outputId": "06e578fe-481b-4009-8243-75e147a39284"
      },
      "source": [
        "# Challange 3\n",
        "# Using the cater dictionary, how many meals do we have in our gold package?\n",
        "gold_len=len(food_packages[\"gold_package\"])\n",
        "print(gold_len)"
      ],
      "execution_count": null,
      "outputs": [
        {
          "output_type": "stream",
          "text": [
            "4\n"
          ],
          "name": "stdout"
        }
      ]
    },
    {
      "cell_type": "markdown",
      "metadata": {
        "id": "t3HfcEjn306L"
      },
      "source": [
        "## 1.7 Removing Elements from a Dictionary"
      ]
    },
    {
      "cell_type": "code",
      "metadata": {
        "colab": {
          "base_uri": "https://localhost:8080/"
        },
        "id": "xMj_dTFOrpMp",
        "outputId": "3faa2148-efd3-440e-fc91-b8f1c3b74bbf"
      },
      "source": [
        "updated_my_new_friend = my_new_friend.pop(\"age\")\n",
        "print(my_new_friend)"
      ],
      "execution_count": null,
      "outputs": [
        {
          "output_type": "stream",
          "text": [
            "{'name': 'Femi', 'residence': 'Nairobi'}\n"
          ],
          "name": "stdout"
        }
      ]
    },
    {
      "cell_type": "code",
      "metadata": {
        "id": "g9zlKoiL7PaV"
      },
      "source": [
        "# Example 1\n",
        "# We can remove a specific item from the dictionary \n",
        "# with the specified key name using the pop() method. \n",
        "# The clear() method clears the items in the dictionary \n",
        "# while the del keyword deletes the dictionary completely.\n",
        "\n",
        "\n",
        "# Removing age from my_new_friend dictionary\n",
        "updated_my_new_friend = my_new_friend.pop(\"age\")\n",
        "\n",
        "# printing out the updated dictionary\n",
        "print(updated_my_new_friend)\n",
        "\n",
        "# now clearing the dictionary \n",
        "updated_my_new_friend.clear()\n",
        "\n",
        "\n",
        "# printing out the cleared dictionary\n",
        "print(updated_my_new_friend)\n",
        "\n",
        "# deleting the dictionary completely\n",
        "del updated_my_new_friend"
      ],
      "execution_count": null,
      "outputs": []
    },
    {
      "cell_type": "code",
      "metadata": {
        "id": "JAKiQ6y97PMq"
      },
      "source": [
        "# Example 2\n",
        "# Removing model from car dictionary\n",
        "\n",
        "# using the pop method\n",
        "updated_car = car.pop(\"model\")\n",
        "\n",
        "# printing out the updated car dictionary\n",
        "print(updated_car)\n",
        "\n",
        "# now clearing the dictionary \n",
        "updated_car.clear()\n",
        "\n",
        "# printing out the cleared dictionary\n",
        "print(updated_car)\n",
        "\n",
        "# deleting the dictionary completely\n",
        "del updated_car"
      ],
      "execution_count": null,
      "outputs": []
    },
    {
      "cell_type": "markdown",
      "metadata": {
        "id": "yxReCiqMMJVz"
      },
      "source": [
        ""
      ]
    },
    {
      "cell_type": "code",
      "metadata": {
        "id": "hJDrF-_i7OzG"
      },
      "source": [
        "# Example 3\n",
        "# Removing School from our_class dictionary\n",
        "\n",
        "# using the pop method\n",
        "our_class.pop(\"School\")\n",
        "\n",
        "# printing out the updated our_class dictionary\n",
        "print(our_class)\n",
        "\n",
        "# now clearing the dictionary \n",
        "our_class.clear()\n",
        "\n",
        "# printing out the cleared dictionary\n",
        "print(our_class)\n",
        "\n",
        "# deleting the dictionary completely\n",
        "del our_class"
      ],
      "execution_count": null,
      "outputs": []
    },
    {
      "cell_type": "markdown",
      "metadata": {
        "id": "ZSQ6Uyb98jUU"
      },
      "source": [
        "### Challenges 1.7"
      ]
    },
    {
      "cell_type": "code",
      "metadata": {
        "id": "SJv-VzAa8liR"
      },
      "source": [
        "# Challenge 1\n",
        "# Let's delete our family dictionary\n",
        "#\n",
        "del (family)"
      ],
      "execution_count": null,
      "outputs": []
    },
    {
      "cell_type": "code",
      "metadata": {
        "id": "RtPPDlUg8mdN"
      },
      "source": [
        "# Challenge 2\n",
        "# Let's clear our anagrams dictionary\n",
        "#\n",
        "del word_dict"
      ],
      "execution_count": null,
      "outputs": []
    },
    {
      "cell_type": "code",
      "metadata": {
        "id": "de_1tLbS8mNr",
        "colab": {
          "base_uri": "https://localhost:8080/"
        },
        "outputId": "3a070a90-607a-4b09-f641-e2d946bd5aa4"
      },
      "source": [
        "# Challenge 3\n",
        "# Let's add another fuctionality to our Naivas Supermarket program\n",
        "# The program will be updated to request the user to whether to delete \n",
        "# any product. If so, the user should perform the deletion respectively.\n",
        "#\n",
        "bread_n= (input(\"Number of loaves of bread: \"))\n",
        "milk_n=(input(\"Number of packets of milk: \"))\n",
        "total_order={\n",
        "    \"Number of loaves\": bread_n,                 \n",
        "    \"Number of milk packets\":milk_n,\n",
        "                  }\n",
        "print(total_order)\n",
        "delete_product=(input('Do you want to delete a product?'))\n",
        "if delete_product=='yes':\n",
        "  product_item=input('Bread or Milk?')\n",
        "  if product_item=='bread':\n",
        "    updated_total_order= total_order.pop(\"Number of loaves\")\n",
        "    print(updated_total_order)\n",
        "  elif product_item=='milk':\n",
        "    updated_total_order= total_order.pop(\"Number of milk packets\")\n",
        "    print(updated_total_order)\n",
        "\n",
        "  else:\n",
        "    print(total_order)\n",
        "else:\n",
        "  print(total_order)\n",
        "\n"
      ],
      "execution_count": null,
      "outputs": [
        {
          "output_type": "stream",
          "text": [
            "Number of loaves of bread: 1\n",
            "Number of packets of milk: 1\n",
            "{'Number of loaves': '1', 'Number of milk packets': '1'}\n",
            "Do you want to delete a product?yes\n",
            "Bread or Milk?bread\n",
            "1\n"
          ],
          "name": "stdout"
        }
      ]
    }
  ]
}