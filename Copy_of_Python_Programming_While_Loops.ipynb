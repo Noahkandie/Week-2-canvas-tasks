{
  "nbformat": 4,
  "nbformat_minor": 0,
  "metadata": {
    "colab": {
      "name": "Copy of Python Programming: While Loops ",
      "provenance": [],
      "collapsed_sections": [
        "i2g_QFDd8RuT",
        "Rq3yNgQ8PDsY",
        "o2l2ojIRIXs9",
        "aoHtqtjuabCr",
        "bJSuEO5NKzC6",
        "c13xlVleK8Dd",
        "m-WluVZoLBie",
        "pt06jAbBLK7j"
      ]
    },
    "kernelspec": {
      "name": "python3",
      "display_name": "Python 3"
    }
  },
  "cells": [
    {
      "cell_type": "markdown",
      "metadata": {
        "id": "BSv_43aDRGBd"
      },
      "source": [
        "<font color=\"green\">*To start working on this notebook, or any other notebook that we will use in the Moringa Data Science Course, we will need to save our own copy of it. We can do this by clicking File > Save a Copy in Drive. We will then be able to make edits to our own copy of this notebook.*</font>"
      ]
    },
    {
      "cell_type": "markdown",
      "metadata": {
        "id": "0hkJ3D_I8PHe"
      },
      "source": [
        "# Python Programming: While Loops "
      ]
    },
    {
      "cell_type": "markdown",
      "metadata": {
        "id": "i2g_QFDd8RuT"
      },
      "source": [
        "## 1.0 Iterating over a While Loop"
      ]
    },
    {
      "cell_type": "code",
      "metadata": {
        "id": "84FCIuE4FfUg",
        "colab": {
          "base_uri": "https://localhost:8080/"
        },
        "outputId": "98a29ef6-6938-44d8-b67b-9a81be9c3453"
      },
      "source": [
        "# Example 1\n",
        "# Below is an example of a program that iterates through the use of a while loop \n",
        "# We will start counting from 1, and then stop at 19 \n",
        "# (each time increasing the value of the count by 1)\n",
        "#\n",
        "\n",
        "# Defining where our loop will start counting from\n",
        "increment_count = 1\n",
        "\n",
        "# Performing our iteration by first defining when to perform the iteration \n",
        "# in this case when the increment count is less than 20 and greater than 0\n",
        "# \n",
        "while 20 > increment_count > 0:\n",
        "  \n",
        "    print ('Increment = ', increment_count)\n",
        "    \n",
        "    # incrementing our increment_count by 1\n",
        "    increment_count = increment_count + 1"
      ],
      "execution_count": null,
      "outputs": [
        {
          "output_type": "stream",
          "text": [
            "Increment =  1\n",
            "Increment =  2\n",
            "Increment =  3\n",
            "Increment =  4\n",
            "Increment =  5\n",
            "Increment =  6\n",
            "Increment =  7\n",
            "Increment =  8\n",
            "Increment =  9\n",
            "Increment =  10\n",
            "Increment =  11\n",
            "Increment =  12\n",
            "Increment =  13\n",
            "Increment =  14\n",
            "Increment =  15\n",
            "Increment =  16\n",
            "Increment =  17\n",
            "Increment =  18\n",
            "Increment =  19\n"
          ],
          "name": "stdout"
        }
      ]
    },
    {
      "cell_type": "code",
      "metadata": {
        "id": "PV7t7NG4IWgl",
        "colab": {
          "base_uri": "https://localhost:8080/"
        },
        "outputId": "e63349dc-406b-481a-8c5c-3ed0349349f5"
      },
      "source": [
        "# Example 2\n",
        "# Iterating over a list using a while loop\n",
        "#\n",
        "\n",
        "# First defining our list\n",
        "facilitators = ['James', 'Rosa', 'Nyambura', 'Emma', 'Leila', 'Simon', 'Lucy', 'Sabina', 'Isaac']\n",
        "\n",
        "# Our while loop will start counting from 0,\n",
        "i = 0\n",
        "\n",
        "# determining the no. of elements in our facilitators list\n",
        "no_of_facilitators = len(facilitators) \n",
        "\n",
        "# Performing our iteration, starting from 0 until i is not less than the no_of_facilitators\n",
        "while i < no_of_facilitators:\n",
        "  \n",
        "  # print out the element in the list as per the index\n",
        "  print(facilitators[i])\n",
        "  \n",
        "  # incrementing our i by 1\n",
        "  i += 1"
      ],
      "execution_count": null,
      "outputs": [
        {
          "output_type": "stream",
          "text": [
            "James\n",
            "Rosa\n",
            "Nyambura\n",
            "Emma\n",
            "Leila\n",
            "Simon\n",
            "Lucy\n",
            "Sabina\n",
            "Isaac\n"
          ],
          "name": "stdout"
        }
      ]
    },
    {
      "cell_type": "code",
      "metadata": {
        "id": "wZxd3taRIXFU",
        "colab": {
          "base_uri": "https://localhost:8080/"
        },
        "outputId": "0a3ecd10-959f-4453-e2c7-8b1be7577db8"
      },
      "source": [
        "# Example 3\n",
        "# In this example we will work with nested while loops \n",
        "#\n",
        "\n",
        "# Creating an integer\n",
        "n = 1\n",
        "\n",
        "# Iterating whilst the value of n is less than or equal to 2\n",
        "while n <= 2:\n",
        "\n",
        "    # Creating an integer\n",
        "    m = 1\n",
        "\n",
        "    # Iterating whilst the value of m is less than or equal to 2\n",
        "    while m <= 3:\n",
        "        print('outer loop iteration {}, nested loop iteration {}'.format(n, m))\n",
        "\n",
        "        # Adding 1 to value m\n",
        "        m += 1\n",
        "\n",
        "    # Adding 1 to value n\n",
        "    n += 1"
      ],
      "execution_count": null,
      "outputs": [
        {
          "output_type": "stream",
          "text": [
            "outer loop iteration 1, nested loop iteration 1\n",
            "outer loop iteration 1, nested loop iteration 2\n",
            "outer loop iteration 1, nested loop iteration 3\n",
            "outer loop iteration 2, nested loop iteration 1\n",
            "outer loop iteration 2, nested loop iteration 2\n",
            "outer loop iteration 2, nested loop iteration 3\n"
          ],
          "name": "stdout"
        }
      ]
    },
    {
      "cell_type": "markdown",
      "metadata": {
        "id": "Rq3yNgQ8PDsY"
      },
      "source": [
        "### <font color=\"green\"> 1.0 Challenges </font>"
      ]
    },
    {
      "cell_type": "code",
      "metadata": {
        "id": "YIqwK5ZEPbKv",
        "colab": {
          "base_uri": "https://localhost:8080/"
        },
        "outputId": "c8d5d4fc-8cec-4d5b-c9a9-649948144d4c"
      },
      "source": [
        "# Challenge 1\n",
        "# Print out the numbers between 1 and 10 inclusive using a while loop\n",
        "#\n",
        "i=1\n",
        "while i<=10:\n",
        "  print(i)\n",
        "  i=i+1"
      ],
      "execution_count": null,
      "outputs": [
        {
          "output_type": "stream",
          "text": [
            "1\n",
            "2\n",
            "3\n",
            "4\n",
            "5\n",
            "6\n",
            "7\n",
            "8\n",
            "9\n",
            "10\n"
          ],
          "name": "stdout"
        }
      ]
    },
    {
      "cell_type": "code",
      "metadata": {
        "id": "zlUiz3BsPbA2",
        "colab": {
          "base_uri": "https://localhost:8080/"
        },
        "outputId": "42335b78-18ad-437f-e45a-6db74b67c840"
      },
      "source": [
        "# Challenge 2\n",
        "# Iterate through given years in the defined list below and stop at the year 2004, \n",
        "# then print out the number of iterations. \n",
        "# \n",
        "\n",
        "dates_list = [2001, 2002, 2003, 2004, 2005, 2006, 2007, 2008, 2009, 2010]\n",
        "i=2001\n",
        "while i <= 2004:\n",
        " print(i)\n",
        " i =i+ 1"
      ],
      "execution_count": null,
      "outputs": [
        {
          "output_type": "stream",
          "text": [
            "2001\n",
            "2002\n",
            "2003\n",
            "2004\n"
          ],
          "name": "stdout"
        }
      ]
    },
    {
      "cell_type": "code",
      "metadata": {
        "id": "qbT7YJz2Pa5K",
        "colab": {
          "base_uri": "https://localhost:8080/"
        },
        "outputId": "fb2e6f97-cbf0-4475-f9d3-d5d8738f3b4a"
      },
      "source": [
        "# Challenge 3\n",
        "# Using a nested loop, print “X is negative” as long as x is less than 0?\n",
        "# \n",
        "x=int(input('Input x as any number: '))\n",
        "i=x\n",
        "while i<0:\n",
        "  print('x is negative')\n",
        "  break\n",
        "else:\n",
        "  print('x is positive')"
      ],
      "execution_count": null,
      "outputs": [
        {
          "output_type": "stream",
          "text": [
            "Input x as any number: -9\n",
            "x is negative\n"
          ],
          "name": "stdout"
        }
      ]
    },
    {
      "cell_type": "markdown",
      "metadata": {
        "id": "o2l2ojIRIXs9"
      },
      "source": [
        "## 1.2 The Break Statement"
      ]
    },
    {
      "cell_type": "code",
      "metadata": {
        "id": "G9Y85nvWMIpK",
        "colab": {
          "base_uri": "https://localhost:8080/"
        },
        "outputId": "27bda154-0a69-4313-cbf4-29ccf53f7357"
      },
      "source": [
        "# Example 1\n",
        "# The break statement allows you to exit a loop from any point within its body. \n",
        "# We can use a break statement while as shown\n",
        "#  \n",
        "\n",
        "n = 1\n",
        "\n",
        "while True:\n",
        "  \n",
        "    print (n)\n",
        "    \n",
        "    n+=1\n",
        "    \n",
        "    if n==4:\n",
        "      \n",
        "        break\n",
        "    \n",
        "print(\"After Break\")"
      ],
      "execution_count": null,
      "outputs": [
        {
          "output_type": "stream",
          "text": [
            "1\n",
            "2\n",
            "3\n",
            "After Break\n"
          ],
          "name": "stdout"
        }
      ]
    },
    {
      "cell_type": "code",
      "metadata": {
        "id": "2l8qKnW1MJUH",
        "colab": {
          "base_uri": "https://localhost:8080/"
        },
        "outputId": "c89555f2-3a09-4394-accc-1b0def8df798"
      },
      "source": [
        "# Example 2\n",
        "# Using a break statement while iterating over our facilitators\n",
        "#\n",
        "\n",
        "# First defining our list\n",
        "facilitators = ['James', 'Rosa', 'Nyambura', 'Emma', 'Leila', 'Simon', 'Lucy', 'Sabina', 'Isaac']\n",
        "\n",
        "# Our while loop will start counting from 0,\n",
        "i = 0\n",
        "\n",
        "# determining the no. of elements in our facilitators list\n",
        "no_of_facilitators = len(facilitators) \n",
        "\n",
        "# defining our word variable\n",
        "word = \"Emma\"\n",
        "\n",
        "\n",
        "# Performing our iteration, starting from 0 until i is not less than the no_of_facilitators\n",
        "while i < no_of_facilitators:\n",
        "  \n",
        "  # print out the element in the list as per the index\n",
        "  if word == facilitators[i]:\n",
        "  \n",
        "    print(facilitators)\n",
        "    \n",
        "    break\n",
        "  \n",
        "  # incrementing our i by 1\n",
        "  i += 1"
      ],
      "execution_count": null,
      "outputs": [
        {
          "output_type": "stream",
          "text": [
            "['James', 'Rosa', 'Nyambura', 'Emma', 'Leila', 'Simon', 'Lucy', 'Sabina', 'Isaac']\n"
          ],
          "name": "stdout"
        }
      ]
    },
    {
      "cell_type": "code",
      "metadata": {
        "id": "yKHgYoplhF9D",
        "colab": {
          "base_uri": "https://localhost:8080/"
        },
        "outputId": "614a4868-face-47d4-9dd9-ae26be7ced46"
      },
      "source": [
        "# Example 3\n",
        "# Imax theatre charges different ticket prices depending on a persons age.  \n",
        "# If a person is under the age of 3, the ticket is free; \n",
        "# If they are between 3 and 12, the ticket is Ksh.500; \n",
        "# and if they are over age 12, the ticket is Ksh.800.  \n",
        "# Write a loop in which you ask their age, and then tell them the cost of the ticket.\n",
        "#\n",
        "\n",
        "prompt = \"\\nPlease enter your age so we can tell you the price of the ticket:\"\n",
        "prompt += \"\\n(Enter 'done' when you are finished.) \"\n",
        "\n",
        "while True:\n",
        "    age = input(prompt)\n",
        "    if age == 'done':\n",
        "        break\n",
        "    age = int(age)\n",
        "\n",
        "\n",
        "    if age < 3:\n",
        "        print(\"Since you are \" + str(age) + \" the cost of the movie ticket is Free!\")\n",
        "    elif age > 3 and age <= 12:\n",
        "        print(\"Since you are \" + str(age) + \" the cost of the movie ticket is Ksh.500.\")\n",
        "    else:\n",
        "        print(\"Since you are \" + str(age) + \" the cost of the movie ticket is Ksh.800\")"
      ],
      "execution_count": null,
      "outputs": [
        {
          "output_type": "stream",
          "text": [
            "\n",
            "Please enter your age so we can tell you the price of the ticket:\n",
            "(Enter 'done' when you are finished.) done\n"
          ],
          "name": "stdout"
        }
      ]
    },
    {
      "cell_type": "markdown",
      "metadata": {
        "id": "aoHtqtjuabCr"
      },
      "source": [
        "### <font color=\"green\">1.2 Challenges</font>"
      ]
    },
    {
      "cell_type": "code",
      "metadata": {
        "id": "Dd1_N4MRad_Q",
        "colab": {
          "base_uri": "https://localhost:8080/"
        },
        "outputId": "7715eb26-4fab-4311-8117-fe37f656472d"
      },
      "source": [
        "# Challenge 1\n",
        "# Write a while loop to display the values of the Rating of an album playlist \n",
        "# stored in the list “PlayListRatings”. If the score is less than 6, exit the loop. \n",
        "# The list “PlayListRatings” is given by: PlayListRatings = [10, 9.5, 10, 8, 7.5, 5, 10, 10]:\n",
        "# \n",
        "PlayListRatings = [10, 9.5, 10, 8, 7.5, 5, 10, 10]\n",
        "i=0\n",
        "while i<len(PlayListRatings):\n",
        "  print(PlayListRatings[i]) \n",
        "  i=i+1\n",
        "  if PlayListRatings[i]<6:\n",
        "    break\n"
      ],
      "execution_count": null,
      "outputs": [
        {
          "output_type": "stream",
          "text": [
            "10\n",
            "9.5\n",
            "10\n",
            "8\n",
            "7.5\n"
          ],
          "name": "stdout"
        }
      ]
    },
    {
      "cell_type": "code",
      "metadata": {
        "id": "Q0yIkFjgg7EJ"
      },
      "source": [
        ""
      ],
      "execution_count": null,
      "outputs": []
    },
    {
      "cell_type": "code",
      "metadata": {
        "id": "DqQMoboYaelF",
        "colab": {
          "base_uri": "https://localhost:8080/"
        },
        "outputId": "5641b16e-48c8-4e99-bf09-0a339e42bd60"
      },
      "source": [
        "# Challenge 2\n",
        "# Iterate through the following names list and stop if the name is Andrew\n",
        "# \n",
        "\n",
        "names = ['Jane', 'Jeremy', 'Pauline', 'George', 'Andrew', 'Michael']\n",
        "i = 0\n",
        "\n",
        "while i<len(names):\n",
        "  print(names[i])\n",
        "  \n",
        "  if (names[i]=='Andrew'):\n",
        "    break\n",
        "  i=i+1\n",
        "    \n",
        "    "
      ],
      "execution_count": null,
      "outputs": [
        {
          "output_type": "stream",
          "text": [
            "Jane\n",
            "Jeremy\n",
            "Pauline\n",
            "George\n",
            "Andrew\n"
          ],
          "name": "stdout"
        }
      ]
    },
    {
      "cell_type": "code",
      "metadata": {
        "id": "USWaUrYuaePF",
        "colab": {
          "base_uri": "https://localhost:8080/"
        },
        "outputId": "f84006b5-83be-43b1-9de2-3af2a2c9f207"
      },
      "source": [
        "# Challenge 3\n",
        "# Write a program that finds the sum of any two numbers entered by a user, \n",
        "# If one of the numbers is a negative number then the program should stop, \n",
        "# else it could compute and display the sum;\n",
        "# \n",
        "x=int(input('x= '))\n",
        "y=int(input('y= '))\n",
        "while True:\n",
        "  if x<0 or y<0:\n",
        "    print('A negative number was detected')\n",
        "    break\n",
        "   \n",
        "  else:\n",
        "    sum=x+y\n",
        "    \n",
        "    print('The sum is :',sum)\n",
        "    break"
      ],
      "execution_count": null,
      "outputs": [
        {
          "output_type": "stream",
          "text": [
            "x= 4\n",
            "y= -5\n",
            "A negaticve number was detected\n"
          ],
          "name": "stdout"
        }
      ]
    },
    {
      "cell_type": "markdown",
      "metadata": {
        "id": "bJSuEO5NKzC6"
      },
      "source": [
        "## 1.3 The Continue Statement"
      ]
    },
    {
      "cell_type": "code",
      "metadata": {
        "id": "IZR7OhHqhsZg",
        "colab": {
          "base_uri": "https://localhost:8080/"
        },
        "outputId": "01eefad1-3375-42b2-9785-7b3d3351ca5c"
      },
      "source": [
        "# Example 1\n",
        "# The continue statement works like break but instead of forcing termination, \n",
        "# it forces the next iteration of the loop to take place \n",
        "# and skipping the rest of the code.\n",
        "# Below is our first example of using a continue statement while iterating over a list\n",
        "# \n",
        "\n",
        "# First defining our list\n",
        "facilitators = ['James', 'Rosa', 'Nyambura', 'Emma', 'Leila', 'Simon', 'Lucy', 'Sabina', 'Isaac']\n",
        "\n",
        "# Our while loop will start counting from 0,\n",
        "i = 0\n",
        "\n",
        "# determining the no. of elements in our facilitators list\n",
        "no_of_facilitators = len(facilitators) \n",
        "\n",
        "# defining our word variable\n",
        "word = \"Emma\"\n",
        "\n",
        "\n",
        "# Performing our iteration, starting from 0 until i is not less than the no_of_facilitators\n",
        "while i < no_of_facilitators:\n",
        "  \n",
        "    print(\"Checking element:\", i)\n",
        "    \n",
        "    if word != facilitators[i]:\n",
        "        \n",
        "        i = i + 1\n",
        "        \n",
        "        continue\n",
        " \n",
        "    print(\"Find the element at \", i)\n",
        "    \n",
        "    # stop the loop\n",
        "    i = no_of_facilitators  "
      ],
      "execution_count": null,
      "outputs": [
        {
          "output_type": "stream",
          "text": [
            "Checking element: 0\n",
            "Checking element: 1\n",
            "Checking element: 2\n",
            "Checking element: 3\n",
            "Find the element at  3\n"
          ],
          "name": "stdout"
        }
      ]
    },
    {
      "cell_type": "code",
      "metadata": {
        "id": "u-iOIUarhsK-",
        "colab": {
          "base_uri": "https://localhost:8080/"
        },
        "outputId": "5141240e-a714-4758-976b-80f3bc762a26"
      },
      "source": [
        "# Example 2\n",
        "# Asking the user for input and printing the input if is isn't #. \n",
        "# if the input is #, we continue else if the input is 'done' we end the loop\n",
        "#\n",
        "\n",
        "print(\"Type 'done' when you want to leave the loop.\")\n",
        "\n",
        "while True:\n",
        "    name = input('Please enter your name: ')\n",
        "    if name == '#':\n",
        "      \n",
        "        continue \n",
        "        \n",
        "    if name == 'done':\n",
        "      \n",
        "        break\n",
        "        \n",
        "    print(name)\n",
        "    \n",
        "\n",
        "print('Done!')\n"
      ],
      "execution_count": null,
      "outputs": [
        {
          "output_type": "stream",
          "text": [
            "Type 'done' when you want to leave the loop.\n",
            "Please enter your name: Noah\n",
            "Noah\n",
            "Please enter your name: nau\n",
            "nau\n",
            "Please enter your name: lk\n",
            "lk\n",
            "Please enter your name: done\n",
            "Done!\n"
          ],
          "name": "stdout"
        }
      ]
    },
    {
      "cell_type": "markdown",
      "metadata": {
        "id": "c13xlVleK8Dd"
      },
      "source": [
        "### <font color=\"green\">1.3 Challenges</font>\n"
      ]
    },
    {
      "cell_type": "code",
      "metadata": {
        "id": "yyauW4_yurxI",
        "colab": {
          "base_uri": "https://localhost:8080/",
          "height": 316
        },
        "outputId": "b78a4222-3fcf-4894-9283-c58b67292e36"
      },
      "source": [
        "# Challenge 1\n",
        "# Let's while loop that prints out the following color list. \n",
        "# If should skip the color green during iteration.\n",
        "#\n",
        "\n",
        "color = ['red', 'yellow', 'green', 'white', 'purple', 'blue']\n",
        "i=0\n",
        "\n",
        "while i<len(color):\n",
        "  print(color[i]) \n",
        "  i=i+1\n",
        "  if color[i]=='green':\n",
        "    continue\n"
      ],
      "execution_count": null,
      "outputs": [
        {
          "output_type": "stream",
          "text": [
            "red\n",
            "yellow\n",
            "green\n",
            "white\n",
            "purple\n",
            "blue\n"
          ],
          "name": "stdout"
        },
        {
          "output_type": "error",
          "ename": "IndexError",
          "evalue": "ignored",
          "traceback": [
            "\u001b[0;31m---------------------------------------------------------------------------\u001b[0m",
            "\u001b[0;31mIndexError\u001b[0m                                Traceback (most recent call last)",
            "\u001b[0;32m<ipython-input-184-d46aad997c78>\u001b[0m in \u001b[0;36m<module>\u001b[0;34m()\u001b[0m\n\u001b[1;32m     10\u001b[0m   \u001b[0mprint\u001b[0m\u001b[0;34m(\u001b[0m\u001b[0mcolor\u001b[0m\u001b[0;34m[\u001b[0m\u001b[0mi\u001b[0m\u001b[0;34m]\u001b[0m\u001b[0;34m)\u001b[0m\u001b[0;34m\u001b[0m\u001b[0;34m\u001b[0m\u001b[0m\n\u001b[1;32m     11\u001b[0m   \u001b[0mi\u001b[0m\u001b[0;34m=\u001b[0m\u001b[0mi\u001b[0m\u001b[0;34m+\u001b[0m\u001b[0;36m1\u001b[0m\u001b[0;34m\u001b[0m\u001b[0;34m\u001b[0m\u001b[0m\n\u001b[0;32m---> 12\u001b[0;31m   \u001b[0;32mif\u001b[0m \u001b[0mcolor\u001b[0m\u001b[0;34m[\u001b[0m\u001b[0mi\u001b[0m\u001b[0;34m]\u001b[0m\u001b[0;34m==\u001b[0m\u001b[0;34m'green'\u001b[0m\u001b[0;34m:\u001b[0m\u001b[0;34m\u001b[0m\u001b[0;34m\u001b[0m\u001b[0m\n\u001b[0m\u001b[1;32m     13\u001b[0m     \u001b[0;32mcontinue\u001b[0m\u001b[0;34m\u001b[0m\u001b[0;34m\u001b[0m\u001b[0m\n",
            "\u001b[0;31mIndexError\u001b[0m: list index out of range"
          ]
        }
      ]
    },
    {
      "cell_type": "markdown",
      "metadata": {
        "id": "m-WluVZoLBie"
      },
      "source": [
        "## 1.4 The Else Statement"
      ]
    },
    {
      "cell_type": "code",
      "metadata": {
        "id": "7-CCMfxfOj4L",
        "colab": {
          "base_uri": "https://localhost:8080/"
        },
        "outputId": "5b45b6c8-8723-4891-f7e2-cebc33ae0334"
      },
      "source": [
        "# Example 1\n",
        "# Showing how the else statement works with the while loop\n",
        "# \n",
        "\n",
        "# Defining our start count\n",
        "counting = 0\n",
        "\n",
        "# \n",
        "while counting < 3:\n",
        "  \n",
        "    print(\"Iterating inside while loop\")\n",
        "    \n",
        "    counting = counting + 1\n",
        "    \n",
        "# The else statement will run if the while condition becomes false\n",
        "else:\n",
        "    print(\"Running the else block...\")\n"
      ],
      "execution_count": null,
      "outputs": [
        {
          "output_type": "stream",
          "text": [
            "Iterating inside while loop\n",
            "Iterating inside while loop\n",
            "Iterating inside while loop\n",
            "Running the else block...\n"
          ],
          "name": "stdout"
        }
      ]
    },
    {
      "cell_type": "code",
      "metadata": {
        "id": "-ku-JJLqvMql",
        "colab": {
          "base_uri": "https://localhost:8080/"
        },
        "outputId": "d5a063cf-c9b4-45b2-d813-4bc941e7eb7a"
      },
      "source": [
        "# Example 2\n",
        "# Another example of using an else and a break statement in a while loop\n",
        "#\n",
        "\n",
        "myNum = 6\n",
        "\n",
        "myVar = 1\n",
        "\n",
        "while myVar <= 10 :\n",
        "  \n",
        "    if myVar == myNum :\n",
        "      \n",
        "            print(\"Breaking out of the loop\")\n",
        "        \n",
        "            break\n",
        "        \n",
        "    print(\"This number = \" + str(myVar))\n",
        "        \n",
        "    myVar += 1\n",
        "    \n",
        "else:\n",
        "  \n",
        "    print(\"Break statement is executed, printing 'else' block\")"
      ],
      "execution_count": null,
      "outputs": [
        {
          "output_type": "stream",
          "text": [
            "This number = 1\n",
            "This number = 2\n",
            "This number = 3\n",
            "This number = 4\n",
            "This number = 5\n",
            "Breaking out of the loop\n"
          ],
          "name": "stdout"
        }
      ]
    },
    {
      "cell_type": "code",
      "metadata": {
        "id": "OZU30VcZvNEz",
        "colab": {
          "base_uri": "https://localhost:8080/"
        },
        "outputId": "2aab36c2-d5b0-4398-8817-b5756f355b0d"
      },
      "source": [
        "# Example 3\n",
        "# Say we want write the first ten numbers shown below. \n",
        "# But for the final number (i.e. 10), we want to write “The final count is: “.\n",
        "# \n",
        "\n",
        "count = 0\n",
        "\n",
        "while count < 10:\n",
        "  \n",
        "    print(\"The current count is: \", count)\n",
        "      \n",
        "    count += 1\n",
        "    \n",
        "else:\n",
        "  \n",
        "    print(\"The final count is: \", count)"
      ],
      "execution_count": null,
      "outputs": [
        {
          "output_type": "stream",
          "text": [
            "The current count is:  0\n",
            "The current count is:  1\n",
            "The current count is:  2\n",
            "The current count is:  3\n",
            "The current count is:  4\n",
            "The current count is:  5\n",
            "The current count is:  6\n",
            "The current count is:  7\n",
            "The current count is:  8\n",
            "The current count is:  9\n",
            "The final count is:  10\n"
          ],
          "name": "stdout"
        }
      ]
    },
    {
      "cell_type": "markdown",
      "metadata": {
        "id": "pt06jAbBLK7j"
      },
      "source": [
        "### <font color=\"green\">1.4 Challenges</font>"
      ]
    },
    {
      "cell_type": "code",
      "metadata": {
        "id": "VXM0D76BvgnX",
        "colab": {
          "base_uri": "https://localhost:8080/"
        },
        "outputId": "77f289eb-99a8-4154-cfd1-745e95f912b0"
      },
      "source": [
        "# Example 1\n",
        "# Write a program that takes in tempearature from a user, \n",
        "# checks whether the temperature is > 40 degrees Celcius, \n",
        "# then prints out whether the templerature is too hot or cold.\n",
        "# \n",
        "temp=int(input('Input the temperature(celcius): '))\n",
        "while True:\n",
        "  if temp>40:\n",
        "    print('The temperature is too hot')\n",
        "    break\n",
        "  else:\n",
        "    print('The temperature is too cold')\n",
        "    break"
      ],
      "execution_count": null,
      "outputs": [
        {
          "output_type": "stream",
          "text": [
            "Input the temperature(celcius): 55\n",
            "The temperature is too hot\n"
          ],
          "name": "stdout"
        }
      ]
    },
    {
      "cell_type": "code",
      "metadata": {
        "id": "lg-2KZfOOsxR",
        "colab": {
          "base_uri": "https://localhost:8080/"
        },
        "outputId": "a6a575af-d70f-4af0-cd97-b85b097e93e1"
      },
      "source": [
        "# Example 2\n",
        "# Let's a program that takes a number between 0 - 100 as input. \n",
        "# If we enter a valid number 3 times, then the while loop runs successfully, \n",
        "# and the message from the else clause would get displayed i.e. \"While loop ended!\".\n",
        "# If we enter an invalid number, then the loop would get aborted \n",
        "# without execting the code in the else.\n",
        "# \n",
        "\n",
        "i=1\n",
        "while True :\n",
        "  x=int(input('Input a number between 0-100 : '))\n",
        "  if 0<x<100:\n",
        "    if i<3:\n",
        "      print('The number is ',x)\n",
        "      i=i+1\n",
        "    \n",
        "    else:\n",
        "      print('While loop ended!')\n",
        "      break\n",
        "\n",
        "  else:\n",
        "    print(x,' is an invalid number')\n",
        "    break\n",
        "    \n"
      ],
      "execution_count": null,
      "outputs": [
        {
          "output_type": "stream",
          "text": [
            "Input a number between 0-100 : 152\n",
            "152  is an invalid number\n"
          ],
          "name": "stdout"
        }
      ]
    }
  ]
}