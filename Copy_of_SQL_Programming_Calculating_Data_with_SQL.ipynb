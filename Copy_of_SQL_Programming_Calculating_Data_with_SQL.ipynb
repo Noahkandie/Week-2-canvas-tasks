{
  "nbformat": 4,
  "nbformat_minor": 0,
  "metadata": {
    "colab": {
      "name": "Copy of SQL Programming - Calculating Data with SQL",
      "provenance": [],
      "collapsed_sections": [
        "oGxfZo8LWZXx",
        "HOnfqP8HWXgB",
        "j7blcxQkWtbr",
        "0kirRUMgXaMs",
        "xeNCrrnOWvIi",
        "Ydq-Lp9vX710",
        "5t8zd5x4Wy0c",
        "Toyc2mT_YWK5",
        "3vgAkdXmW3VP",
        "tpsZ1JXvYhgd"
      ],
      "toc_visible": true
    },
    "kernelspec": {
      "display_name": "Python 3",
      "name": "python3"
    }
  },
  "cells": [
    {
      "cell_type": "markdown",
      "metadata": {
        "id": "--cnOLTPZ6MG"
      },
      "source": [
        "<font color=\"green\">*To start working on this notebook, or any other notebook that we will use in the Moringa Data Science Course, we will need to save our own copy of it. We can do this by clicking File > Save a Copy in Drive. We will then be able to make edits to our own copy of this notebook.*</font>"
      ]
    },
    {
      "cell_type": "markdown",
      "metadata": {
        "id": "5oWzigcLV06t"
      },
      "source": [
        "# SQL Programming - Calculating Data with SQL"
      ]
    },
    {
      "cell_type": "markdown",
      "metadata": {
        "id": "oGxfZo8LWZXx"
      },
      "source": [
        "## 1.0 Connecting to our Database"
      ]
    },
    {
      "cell_type": "code",
      "metadata": {
        "colab": {
          "base_uri": "https://localhost:8080/",
          "height": 69
        },
        "id": "aGOQCVTLWpSn",
        "outputId": "60b8146d-d454-4fce-ed7a-4362643eeb9a"
      },
      "source": [
        "# We will first load the sql extension into our environment\n",
        "%load_ext sql\n",
        "\n",
        "# Then connect to our in memory sqlite database\n",
        "# NB: This database will cease to exist as soon as the database connection is closed. \n",
        "%sql sqlite://"
      ],
      "execution_count": null,
      "outputs": [
        {
          "output_type": "stream",
          "text": [
            "The sql extension is already loaded. To reload it, use:\n",
            "  %reload_ext sql\n"
          ],
          "name": "stdout"
        },
        {
          "output_type": "execute_result",
          "data": {
            "application/vnd.google.colaboratory.intrinsic+json": {
              "type": "string"
            },
            "text/plain": [
              "'Connected: @None'"
            ]
          },
          "metadata": {
            "tags": []
          },
          "execution_count": 2
        }
      ]
    },
    {
      "cell_type": "markdown",
      "metadata": {
        "id": "HOnfqP8HWXgB"
      },
      "source": [
        "## 1.1 Importing Data from CSV files"
      ]
    },
    {
      "cell_type": "markdown",
      "metadata": {
        "id": "UDDmPdUHmOIT"
      },
      "source": [
        "Datasets used in this notebook:\n",
        "\n",
        "\n",
        "1.   **Population by Urban Centres, 2009**\n",
        "\n",
        "> This dataset shows the total population of urban centres in different Kenyan counties. ([Dataset Download](https://drive.google.com/a/moringaschool.com/file/d/1E-Ew-uGxWqO3HJLS0bX7DUAe-c93sdCO/view?usp=sharing))\n",
        "\n",
        "2.   **Population by Age, Sex and Educational Attainment in 2000 - 2009** \n",
        "\n",
        "> The dataset is from IIASA-VID Dataset (W Lutz, A Goujon, S K.C., W Sanderson. 2007. Reconstruction of population by age, sex and level of educational attainment of 120 countries for 1970-2000. Vienna Yearbook of Population Research, vol. 2007, pp 193-235). ([Dataset Download](https://drive.google.com/a/moringaschool.com/file/d/1Kx70v8SqGRJWkDccNkn31JJ5Jnq1OKM3/view?usp=sharing))\n",
        "\n",
        "3. **2014 - 2015 Government Projects Summary Sorted by Funding Source**\n",
        "\n",
        "> Based on 2014 - 2015 Estimated Finance allocations for Kenyan Government Projects. ([Dataset Download](https://drive.google.com/a/moringaschool.com/file/d/10Dh9psiaAUo_HyyN6WZK6re0bI4_joUG/view?usp=sharing))\n",
        "\n",
        "\n",
        "\n"
      ]
    },
    {
      "cell_type": "code",
      "metadata": {
        "id": "pfQPCUG1j63f"
      },
      "source": [
        "# Importing the pandas library\n",
        "# We will use a function read_csv from pandas to read our datasets as shown\n",
        "#\n",
        "import pandas as pd "
      ],
      "execution_count": null,
      "outputs": []
    },
    {
      "cell_type": "code",
      "metadata": {
        "colab": {
          "base_uri": "https://localhost:8080/"
        },
        "id": "wLNd4C2J12rZ",
        "outputId": "5d79b3ca-96d9-4e44-9fa1-ea782dc6cbac"
      },
      "source": [
        "# Loading our table from the respective CSV files \n",
        "with open('urban_centres_dataset.csv','r') as f:\n",
        "    Urban_Centres = pd.read_csv(f, index_col=0, encoding='utf-8')\n",
        "# saving the urban center CSV file into a database\n",
        "%sql DROP TABLE  Urban_Centres;\n",
        "%sql PERSIST Urban_Centres;\n",
        "\n",
        "# Displaying the first  5 entries \n",
        "%sql SELECT * FROM Urban_Centres LIMIT 5;"
      ],
      "execution_count": null,
      "outputs": [
        {
          "output_type": "stream",
          "text": [
            "UsageError: Line magic function `%sql` not found.\n"
          ],
          "name": "stderr"
        }
      ]
    },
    {
      "cell_type": "code",
      "metadata": {
        "colab": {
          "base_uri": "https://localhost:8080/"
        },
        "id": "iwCRvKEW152I",
        "outputId": "908378b5-45fd-4d65-87b3-5538989b1cce"
      },
      "source": [
        "# Let's load our households dataset below\n",
        "with open('households_dataset.csv','r') as f:\n",
        "    Households = pd.read_csv(f, index_col=0, encoding='utf-8') \n",
        "\n",
        "# Save the houshold dataset into a database\n",
        "%sql DROP TABLE  Households;\n",
        "%sql PERSIST Households;\n",
        "\n",
        "# Display the first 5 entries from the database\n",
        "%sql SELECT * FROM Households LIMIT 5;"
      ],
      "execution_count": null,
      "outputs": [
        {
          "output_type": "stream",
          "text": [
            "UsageError: Line magic function `%sql` not found.\n"
          ],
          "name": "stderr"
        }
      ]
    },
    {
      "cell_type": "code",
      "metadata": {
        "colab": {
          "base_uri": "https://localhost:8080/",
          "height": 437
        },
        "id": "R8zR1rtm18iA",
        "outputId": "31b62af2-f127-4531-8b39-25d06d3a9add"
      },
      "source": [
        "# Let's load our government project dataset below\n",
        "with open('government_project_summary.csv','r') as f:\n",
        "    Government_Budget = pd.read_csv(f, index_col=0, encoding='utf-8') \n",
        "\n",
        "# Save the governmwnt budget dataset into a database\n",
        "%sql DROP TABLE Government_Budget;\n",
        "%sql PERSIST Government_Budget;\n",
        "\n",
        "# Display the first 5 entries from the database\n",
        "%sql SELECT * FROM Government_Budget LIMIT 5;"
      ],
      "execution_count": null,
      "outputs": [
        {
          "output_type": "stream",
          "text": [
            " * sqlite://\n",
            "(sqlite3.OperationalError) no such table: Government_Budget\n",
            "[SQL: DROP TABLE Government_Budget;]\n",
            "(Background on this error at: http://sqlalche.me/e/14/e3q8)\n",
            " * sqlite://\n",
            " * sqlite://\n",
            "Done.\n"
          ],
          "name": "stdout"
        },
        {
          "output_type": "execute_result",
          "data": {
            "text/html": [
              "<table>\n",
              "    <thead>\n",
              "        <tr>\n",
              "            <th>Total_-_GOK_Budget_Est_KES</th>\n",
              "            <th>Total_-_Loan_Budget_Est_KES</th>\n",
              "            <th>Total_-_Grant_Budget_Est_KES</th>\n",
              "            <th>Total_Budget_Supported__by_Donors_KES</th>\n",
              "            <th>Total_Project_Cost_KES</th>\n",
              "            <th>Funding_Source</th>\n",
              "            <th>OBJECTID</th>\n",
              "        </tr>\n",
              "    </thead>\n",
              "    <tbody>\n",
              "        <tr>\n",
              "            <td>111285239</td>\n",
              "            <td>609690025</td>\n",
              "            <td>2100000000</td>\n",
              "            <td>2709690025</td>\n",
              "            <td>25162065397</td>\n",
              "            <td> Government of Sweden</td>\n",
              "            <td>0</td>\n",
              "        </tr>\n",
              "        <tr>\n",
              "            <td>2009277440</td>\n",
              "            <td>7443790000</td>\n",
              "            <td>1436627037</td>\n",
              "            <td>8880417037</td>\n",
              "            <td>12567296534</td>\n",
              "            <td> United Nations Development Programme (UNDP)</td>\n",
              "            <td>1</td>\n",
              "        </tr>\n",
              "        <tr>\n",
              "            <td>50034000</td>\n",
              "            <td>0</td>\n",
              "            <td>1705540000</td>\n",
              "            <td>1705540000</td>\n",
              "            <td>4015101726</td>\n",
              "            <td> World Food Programme</td>\n",
              "            <td>2</td>\n",
              "        </tr>\n",
              "        <tr>\n",
              "            <td>24267555932</td>\n",
              "            <td>144199000000</td>\n",
              "            <td>1700000000</td>\n",
              "            <td>145899000000</td>\n",
              "            <td>445033000000</td>\n",
              "            <td> African Development Bank/ Fund</td>\n",
              "            <td>3</td>\n",
              "        </tr>\n",
              "        <tr>\n",
              "            <td>1160000000</td>\n",
              "            <td>2085000000</td>\n",
              "            <td>600000000</td>\n",
              "            <td>2685000000</td>\n",
              "            <td>174293000000</td>\n",
              "            <td> European Investment Bank</td>\n",
              "            <td>4</td>\n",
              "        </tr>\n",
              "    </tbody>\n",
              "</table>"
            ],
            "text/plain": [
              "[(111285239, 609690025, 2100000000, 2709690025, 25162065397, ' Government of Sweden', 0),\n",
              " (2009277440, 7443790000, 1436627037, 8880417037, 12567296534, ' United Nations Development Programme (UNDP)', 1),\n",
              " (50034000, 0, 1705540000, 1705540000, 4015101726, ' World Food Programme', 2),\n",
              " (24267555932, 144199000000, 1700000000, 145899000000, 445033000000, ' African Development Bank/ Fund', 3),\n",
              " (1160000000, 2085000000, 600000000, 2685000000, 174293000000, ' European Investment Bank', 4)]"
            ]
          },
          "metadata": {
            "tags": []
          },
          "execution_count": 6
        }
      ]
    },
    {
      "cell_type": "markdown",
      "metadata": {
        "id": "j7blcxQkWtbr"
      },
      "source": [
        "## 1.2 Using the AVG() aggregate function"
      ]
    },
    {
      "cell_type": "code",
      "metadata": {
        "colab": {
          "base_uri": "https://localhost:8080/",
          "height": 95
        },
        "id": "xejqEVS6XE3K",
        "outputId": "c9c3000a-0166-4a8e-9df0-52bb54864ab9"
      },
      "source": [
        "# Example 1 \n",
        "# We can find the average Total_population for urban centres in Kenya \n",
        "# by using the AVG() function as shown;\n",
        "#\n",
        "%%sql\n",
        "SELECT AVG(Total_population) FROM Urban_Centres;"
      ],
      "execution_count": null,
      "outputs": [
        {
          "output_type": "stream",
          "text": [
            " * sqlite://\n",
            "Done.\n"
          ],
          "name": "stdout"
        },
        {
          "output_type": "execute_result",
          "data": {
            "text/html": [
              "<table>\n",
              "    <thead>\n",
              "        <tr>\n",
              "            <th>AVG(Total_population)</th>\n",
              "        </tr>\n",
              "    </thead>\n",
              "    <tbody>\n",
              "        <tr>\n",
              "            <td>66232.38202247191</td>\n",
              "        </tr>\n",
              "    </tbody>\n",
              "</table>"
            ],
            "text/plain": [
              "[(66232.38202247191,)]"
            ]
          },
          "metadata": {
            "tags": []
          },
          "execution_count": 10
        }
      ]
    },
    {
      "cell_type": "code",
      "metadata": {
        "colab": {
          "base_uri": "https://localhost:8080/",
          "height": 95
        },
        "id": "pSul8oZAXODb",
        "outputId": "d6bb9bab-9442-4505-999f-bf0a2befd394"
      },
      "source": [
        "# Example 2\n",
        "# What was the average funding provided by donors? \n",
        "# \n",
        "%%sql\n",
        "SELECT AVG(Total_Budget_Supported__by_Donors_KES) FROM Government_Budget;"
      ],
      "execution_count": null,
      "outputs": [
        {
          "output_type": "stream",
          "text": [
            " * sqlite://\n",
            "Done.\n"
          ],
          "name": "stdout"
        },
        {
          "output_type": "execute_result",
          "data": {
            "text/html": [
              "<table>\n",
              "    <thead>\n",
              "        <tr>\n",
              "            <th>AVG(Total_Budget_Supported__by_Donors_KES)</th>\n",
              "        </tr>\n",
              "    </thead>\n",
              "    <tbody>\n",
              "        <tr>\n",
              "            <td>12154422103.65</td>\n",
              "        </tr>\n",
              "    </tbody>\n",
              "</table>"
            ],
            "text/plain": [
              "[(12154422103.65,)]"
            ]
          },
          "metadata": {
            "tags": []
          },
          "execution_count": 11
        }
      ]
    },
    {
      "cell_type": "code",
      "metadata": {
        "colab": {
          "base_uri": "https://localhost:8080/",
          "height": 95
        },
        "id": "fRbUWnBnXN4G",
        "outputId": "f3668e0a-42fb-4f52-b194-c9f69e8ef425"
      },
      "source": [
        "# Example 3\n",
        "# What is the average no. of female households?\n",
        "#\n",
        "%%sql\n",
        "SELECT AVG(Number_of_households) FROM Households WHERE gender=\"Female\";"
      ],
      "execution_count": null,
      "outputs": [
        {
          "output_type": "stream",
          "text": [
            " * sqlite://\n",
            "Done.\n"
          ],
          "name": "stdout"
        },
        {
          "output_type": "execute_result",
          "data": {
            "text/html": [
              "<table>\n",
              "    <thead>\n",
              "        <tr>\n",
              "            <th>AVG(Number_of_households)</th>\n",
              "        </tr>\n",
              "    </thead>\n",
              "    <tbody>\n",
              "        <tr>\n",
              "            <td>59974.46808510638</td>\n",
              "        </tr>\n",
              "    </tbody>\n",
              "</table>"
            ],
            "text/plain": [
              "[(59974.46808510638,)]"
            ]
          },
          "metadata": {
            "tags": []
          },
          "execution_count": 12
        }
      ]
    },
    {
      "cell_type": "markdown",
      "metadata": {
        "id": "0kirRUMgXaMs"
      },
      "source": [
        "### <font color=\"green\">1.2 Challenges</font>"
      ]
    },
    {
      "cell_type": "code",
      "metadata": {
        "colab": {
          "base_uri": "https://localhost:8080/",
          "height": 95
        },
        "id": "xbn296l_Xp0a",
        "outputId": "a63e3047-8873-46a4-fbab-347e713bbdfd"
      },
      "source": [
        "# Challenge 1\n",
        "# Calculate the average core urban population?\n",
        "#\n",
        "%%sql\n",
        "SELECT AVG(Core_urban_population\t) FROM Urban_Centres"
      ],
      "execution_count": null,
      "outputs": [
        {
          "output_type": "stream",
          "text": [
            " * sqlite://\n",
            "Done.\n"
          ],
          "name": "stdout"
        },
        {
          "output_type": "execute_result",
          "data": {
            "text/html": [
              "<table>\n",
              "    <thead>\n",
              "        <tr>\n",
              "            <th>AVG(Core_urban_population\t)</th>\n",
              "        </tr>\n",
              "    </thead>\n",
              "    <tbody>\n",
              "        <tr>\n",
              "            <td>49875.38764044944</td>\n",
              "        </tr>\n",
              "    </tbody>\n",
              "</table>"
            ],
            "text/plain": [
              "[(49875.38764044944,)]"
            ]
          },
          "metadata": {
            "tags": []
          },
          "execution_count": 13
        }
      ]
    },
    {
      "cell_type": "code",
      "metadata": {
        "colab": {
          "base_uri": "https://localhost:8080/",
          "height": 95
        },
        "id": "UT-YLh2mXqkx",
        "outputId": "e5aa96cf-b349-4b89-f08b-454a5a471c1b"
      },
      "source": [
        "# Challenge 2\n",
        "# Calculate the average grant for project allocations to the Kenyan government?\n",
        "# \n",
        "%%sql\n",
        "SELECT AVG(\"Total_-_Grant_Budget_Est_KES\") FROM Government_Budget"
      ],
      "execution_count": null,
      "outputs": [
        {
          "output_type": "stream",
          "text": [
            " * sqlite://\n",
            "Done.\n"
          ],
          "name": "stdout"
        },
        {
          "output_type": "execute_result",
          "data": {
            "text/html": [
              "<table>\n",
              "    <thead>\n",
              "        <tr>\n",
              "            <th>AVG(&quot;Total_-_Grant_Budget_Est_KES&quot;)</th>\n",
              "        </tr>\n",
              "    </thead>\n",
              "    <tbody>\n",
              "        <tr>\n",
              "            <td>2783716826.775</td>\n",
              "        </tr>\n",
              "    </tbody>\n",
              "</table>"
            ],
            "text/plain": [
              "[(2783716826.775,)]"
            ]
          },
          "metadata": {
            "tags": []
          },
          "execution_count": 20
        }
      ]
    },
    {
      "cell_type": "code",
      "metadata": {
        "colab": {
          "base_uri": "https://localhost:8080/",
          "height": 95
        },
        "id": "VjBWjGp9XqWY",
        "outputId": "0d94ffa2-5860-41a8-faff-c024e958b7d2"
      },
      "source": [
        "# Challenge 3\n",
        "# Calculate the average number of male households in Kenya\n",
        "# with an age group of atleast 30% household age group of 25 - 34yrs?\n",
        "# \n",
        "%%sql\n",
        "SELECT AVG(Number_of_households) FROM Households \n",
        "WHERE gender = \"Male\" AND \"Age_Group_of_Household_head_25-34_%\">30\n",
        ";"
      ],
      "execution_count": null,
      "outputs": [
        {
          "output_type": "stream",
          "text": [
            " * sqlite://\n",
            "Done.\n"
          ],
          "name": "stdout"
        },
        {
          "output_type": "execute_result",
          "data": {
            "text/html": [
              "<table>\n",
              "    <thead>\n",
              "        <tr>\n",
              "            <th>AVG(Number_of_households)</th>\n",
              "        </tr>\n",
              "    </thead>\n",
              "    <tbody>\n",
              "        <tr>\n",
              "            <td>191076.76470588235</td>\n",
              "        </tr>\n",
              "    </tbody>\n",
              "</table>"
            ],
            "text/plain": [
              "[(191076.76470588235,)]"
            ]
          },
          "metadata": {
            "tags": []
          },
          "execution_count": 151
        }
      ]
    },
    {
      "cell_type": "markdown",
      "metadata": {
        "id": "xeNCrrnOWvIi"
      },
      "source": [
        "## 1.3 Performing Arithmetic Operations\n"
      ]
    },
    {
      "cell_type": "code",
      "metadata": {
        "colab": {
          "base_uri": "https://localhost:8080/",
          "height": 74
        },
        "id": "NQaUfmLAX3-n",
        "outputId": "7456b953-c0cf-492e-e8b6-aac201b685e8"
      },
      "source": [
        "# Example 1\n",
        "# Let's do some data cleaning procedures by trying to find out the number \n",
        "# of records whose addition of core urban population \n",
        "# and peri urban population does not add up to the total urban population.\n",
        "#\n",
        "%%sql\n",
        "SELECT * FROM Urban_Centres WHERE (Core_urban_population + Peri_urban_population) != Total_population;"
      ],
      "execution_count": null,
      "outputs": [
        {
          "output_type": "stream",
          "text": [
            " * sqlite://\n",
            "Done.\n"
          ],
          "name": "stdout"
        },
        {
          "output_type": "execute_result",
          "data": {
            "text/html": [
              "<table>\n",
              "    <thead>\n",
              "        <tr>\n",
              "            <th>Urban_centre</th>\n",
              "            <th>Total_population</th>\n",
              "            <th>Core_urban_population</th>\n",
              "            <th>Peri_urban_population</th>\n",
              "            <th>Sex_ratio</th>\n",
              "            <th>co-ordinates</th>\n",
              "            <th>OBJECTID</th>\n",
              "        </tr>\n",
              "    </thead>\n",
              "    <tbody>\n",
              "    </tbody>\n",
              "</table>"
            ],
            "text/plain": [
              "[]"
            ]
          },
          "metadata": {
            "tags": []
          },
          "execution_count": 7
        }
      ]
    },
    {
      "cell_type": "code",
      "metadata": {
        "colab": {
          "base_uri": "https://localhost:8080/",
          "height": 158
        },
        "id": "KLPKHaXgX32_",
        "outputId": "f1859985-383e-4242-a3e1-46fd4ca19214"
      },
      "source": [
        "# Example 2 \n",
        "# Which urban centers' difference between the core urban population \n",
        "# and the peri urban population was less than 1000?\n",
        "#\n",
        "%%sql \n",
        "SELECT * FROM Urban_Centres WHERE ABS(Core_urban_population - Peri_urban_population) < 1000"
      ],
      "execution_count": null,
      "outputs": [
        {
          "output_type": "stream",
          "text": [
            " * sqlite://\n",
            "Done.\n"
          ],
          "name": "stdout"
        },
        {
          "output_type": "execute_result",
          "data": {
            "text/html": [
              "<table>\n",
              "    <thead>\n",
              "        <tr>\n",
              "            <th>Urban_centre</th>\n",
              "            <th>Total_population</th>\n",
              "            <th>Core_urban_population</th>\n",
              "            <th>Peri_urban_population</th>\n",
              "            <th>Sex_ratio</th>\n",
              "            <th>co-ordinates</th>\n",
              "            <th>OBJECTID</th>\n",
              "        </tr>\n",
              "    </thead>\n",
              "    <tbody>\n",
              "        <tr>\n",
              "            <td>Archers Post</td>\n",
              "            <td>6123</td>\n",
              "            <td>2683</td>\n",
              "            <td>3440</td>\n",
              "            <td>106</td>\n",
              "            <td>(0.64069109999999996, 37.6491483)</td>\n",
              "            <td>1</td>\n",
              "        </tr>\n",
              "        <tr>\n",
              "            <td>Kiminini</td>\n",
              "            <td>11642</td>\n",
              "            <td>5523</td>\n",
              "            <td>6119</td>\n",
              "            <td>85</td>\n",
              "            <td>(0.90853975600000003, 34.92532886)</td>\n",
              "            <td>59</td>\n",
              "        </tr>\n",
              "        <tr>\n",
              "            <td>Kinango</td>\n",
              "            <td>7682</td>\n",
              "            <td>4317</td>\n",
              "            <td>3365</td>\n",
              "            <td>93</td>\n",
              "            <td>(-4.1045338190000002, 39.313578219999997)</td>\n",
              "            <td>60</td>\n",
              "        </tr>\n",
              "        <tr>\n",
              "            <td>Wamba</td>\n",
              "            <td>6059</td>\n",
              "            <td>2579</td>\n",
              "            <td>3480</td>\n",
              "            <td>99</td>\n",
              "            <td>(0.98577954499999998, 37.32137101)</td>\n",
              "            <td>172</td>\n",
              "        </tr>\n",
              "    </tbody>\n",
              "</table>"
            ],
            "text/plain": [
              "[('Archers Post', 6123, 2683, 3440, 106, '(0.64069109999999996, 37.6491483)', 1),\n",
              " ('Kiminini', 11642, 5523, 6119, 85, '(0.90853975600000003, 34.92532886)', 59),\n",
              " ('Kinango', 7682, 4317, 3365, 93, '(-4.1045338190000002, 39.313578219999997)', 60),\n",
              " ('Wamba', 6059, 2579, 3480, 99, '(0.98577954499999998, 37.32137101)', 172)]"
            ]
          },
          "metadata": {
            "tags": []
          },
          "execution_count": 8
        }
      ]
    },
    {
      "cell_type": "code",
      "metadata": {
        "colab": {
          "base_uri": "https://localhost:8080/",
          "height": 725
        },
        "id": "LYeZwxqtX3ug",
        "outputId": "a95a7e63-6401-4d92-a8bb-53fc49ca48ab"
      },
      "source": [
        "# Example 3\n",
        "# Which donors funded projects amounting to more than 50& of the project cost?\n",
        "# \n",
        "%%sql\n",
        "SELECT Funding_Source  FROM Government_Budget WHERE (Total_Project_Cost_KES / Total_Budget_Supported__by_Donors_KES) > 0.5;"
      ],
      "execution_count": null,
      "outputs": [
        {
          "output_type": "stream",
          "text": [
            " * sqlite://\n",
            "Done.\n"
          ],
          "name": "stdout"
        },
        {
          "output_type": "execute_result",
          "data": {
            "text/html": [
              "<table>\n",
              "    <thead>\n",
              "        <tr>\n",
              "            <th>Funding_Source</th>\n",
              "        </tr>\n",
              "    </thead>\n",
              "    <tbody>\n",
              "        <tr>\n",
              "            <td> Government of Sweden</td>\n",
              "        </tr>\n",
              "        <tr>\n",
              "            <td> United Nations Development Programme (UNDP)</td>\n",
              "        </tr>\n",
              "        <tr>\n",
              "            <td> World Food Programme</td>\n",
              "        </tr>\n",
              "        <tr>\n",
              "            <td> African Development Bank/ Fund</td>\n",
              "        </tr>\n",
              "        <tr>\n",
              "            <td> European Investment Bank</td>\n",
              "        </tr>\n",
              "        <tr>\n",
              "            <td> Government of India</td>\n",
              "        </tr>\n",
              "        <tr>\n",
              "            <td> Government of Italy</td>\n",
              "        </tr>\n",
              "        <tr>\n",
              "            <td>Government of Kenya</td>\n",
              "        </tr>\n",
              "        <tr>\n",
              "            <td> Government of United States of America (USAID)</td>\n",
              "        </tr>\n",
              "        <tr>\n",
              "            <td> Government of Spain</td>\n",
              "        </tr>\n",
              "        <tr>\n",
              "            <td> Kuwait Fund for Arab Development</td>\n",
              "        </tr>\n",
              "        <tr>\n",
              "            <td> Arab Bank for Economic Development in Africa (BADEA)</td>\n",
              "        </tr>\n",
              "        <tr>\n",
              "            <td> Government of South Korea</td>\n",
              "        </tr>\n",
              "        <tr>\n",
              "            <td> Government of Denmark</td>\n",
              "        </tr>\n",
              "        <tr>\n",
              "            <td> Abhu Dhabi Fund</td>\n",
              "        </tr>\n",
              "        <tr>\n",
              "            <td> Government of China</td>\n",
              "        </tr>\n",
              "        <tr>\n",
              "            <td> Investment Climate Facility (ICF)</td>\n",
              "        </tr>\n",
              "        <tr>\n",
              "            <td> Government of Finland</td>\n",
              "        </tr>\n",
              "        <tr>\n",
              "            <td> International Development Association (IDA)</td>\n",
              "        </tr>\n",
              "        <tr>\n",
              "            <td> Saudi Fund for Development</td>\n",
              "        </tr>\n",
              "        <tr>\n",
              "            <td> European Development Fund</td>\n",
              "        </tr>\n",
              "        <tr>\n",
              "            <td> Global Fund</td>\n",
              "        </tr>\n",
              "        <tr>\n",
              "            <td> Government of Germany (GIZ GERMANY)</td>\n",
              "        </tr>\n",
              "        <tr>\n",
              "            <td> United Kingdom DFID (UK)</td>\n",
              "        </tr>\n",
              "        <tr>\n",
              "            <td> Government of Germany (KFW GERMANY)</td>\n",
              "        </tr>\n",
              "        <tr>\n",
              "            <td> Government of France</td>\n",
              "        </tr>\n",
              "        <tr>\n",
              "            <td> Government of Japan</td>\n",
              "        </tr>\n",
              "        <tr>\n",
              "            <td> United Nations Environmental Programme (UNEP)</td>\n",
              "        </tr>\n",
              "        <tr>\n",
              "            <td> International Fund for Agricultural Development (IFAD)</td>\n",
              "        </tr>\n",
              "        <tr>\n",
              "            <td> Organization of Petroleum Exporting Countries (OPEC)</td>\n",
              "        </tr>\n",
              "        <tr>\n",
              "            <td> Food and Agricultural Organization</td>\n",
              "        </tr>\n",
              "    </tbody>\n",
              "</table>"
            ],
            "text/plain": [
              "[(' Government of Sweden',),\n",
              " (' United Nations Development Programme (UNDP)',),\n",
              " (' World Food Programme',),\n",
              " (' African Development Bank/ Fund',),\n",
              " (' European Investment Bank',),\n",
              " (' Government of India',),\n",
              " (' Government of Italy',),\n",
              " ('Government of Kenya',),\n",
              " (' Government of United States of America (USAID)',),\n",
              " (' Government of Spain',),\n",
              " (' Kuwait Fund for Arab Development',),\n",
              " (' Arab Bank for Economic Development in Africa (BADEA)',),\n",
              " (' Government of South Korea',),\n",
              " (' Government of Denmark',),\n",
              " (' Abhu Dhabi Fund',),\n",
              " (' Government of China',),\n",
              " (' Investment Climate Facility (ICF)',),\n",
              " (' Government of Finland',),\n",
              " (' International Development Association (IDA)',),\n",
              " (' Saudi Fund for Development',),\n",
              " (' European Development Fund',),\n",
              " (' Global Fund',),\n",
              " (' Government of Germany (GIZ GERMANY)',),\n",
              " (' United Kingdom DFID (UK)',),\n",
              " (' Government of Germany (KFW GERMANY)',),\n",
              " (' Government of France',),\n",
              " (' Government of Japan',),\n",
              " (' United Nations Environmental Programme (UNEP)',),\n",
              " (' International Fund for Agricultural Development (IFAD)',),\n",
              " (' Organization of Petroleum Exporting Countries (OPEC)',),\n",
              " (' Food and Agricultural Organization',)]"
            ]
          },
          "metadata": {
            "tags": []
          },
          "execution_count": 9
        }
      ]
    },
    {
      "cell_type": "markdown",
      "metadata": {
        "id": "Ydq-Lp9vX710"
      },
      "source": [
        "### <font color=\"green\">1.3 Challenges</font>"
      ]
    },
    {
      "cell_type": "code",
      "metadata": {
        "colab": {
          "base_uri": "https://localhost:8080/"
        },
        "id": "jzSpDnSFkNCK",
        "outputId": "c14ed8fc-5130-4f49-8b55-202080c25342"
      },
      "source": [
        "%%sql\n",
        "SELECT * FROM Government_Budget LIMIT 1"
      ],
      "execution_count": null,
      "outputs": [
        {
          "output_type": "stream",
          "text": [
            " * sqlite://\n",
            "Done.\n"
          ],
          "name": "stdout"
        },
        {
          "output_type": "execute_result",
          "data": {
            "text/html": [
              "<table>\n",
              "    <thead>\n",
              "        <tr>\n",
              "            <th>Total_-_GOK_Budget_Est_KES</th>\n",
              "            <th>Total_-_Loan_Budget_Est_KES</th>\n",
              "            <th>Total_-_Grant_Budget_Est_KES</th>\n",
              "            <th>Total_Budget_Supported__by_Donors_KES</th>\n",
              "            <th>Total_Project_Cost_KES</th>\n",
              "            <th>Funding_Source</th>\n",
              "            <th>OBJECTID</th>\n",
              "        </tr>\n",
              "    </thead>\n",
              "    <tbody>\n",
              "        <tr>\n",
              "            <td>111285239</td>\n",
              "            <td>609690025</td>\n",
              "            <td>2100000000</td>\n",
              "            <td>2709690025</td>\n",
              "            <td>25162065397</td>\n",
              "            <td> Government of Sweden</td>\n",
              "            <td>0</td>\n",
              "        </tr>\n",
              "    </tbody>\n",
              "</table>"
            ],
            "text/plain": [
              "[(111285239, 609690025, 2100000000, 2709690025, 25162065397, ' Government of Sweden', 0)]"
            ]
          },
          "metadata": {
            "tags": []
          },
          "execution_count": 10
        }
      ]
    },
    {
      "cell_type": "code",
      "metadata": {
        "colab": {
          "base_uri": "https://localhost:8080/"
        },
        "id": "-lwboGD2YN4n",
        "outputId": "592044ba-ac30-4101-92ff-ce758f0a6312"
      },
      "source": [
        "# Challenge 1\n",
        "# What was the total grants offered by the 'African Development Bank/ Fund' \n",
        "# and the 'United Nations Development Programme (UNDP)'\n",
        "# contribute towards projects underken by the Kenyan government?\n",
        "# \n",
        "%%sql\n",
        "SELECT Funding_Source, (\"Total_-_Grant_Budget_Est_KES\") FROM Government_Budget\n",
        "WHERE Funding_Source = \" African Development Bank/ Fund\" or Funding_Source = \" United Nations Development Programme (UNDP)\"\n",
        "\n"
      ],
      "execution_count": null,
      "outputs": [
        {
          "output_type": "stream",
          "text": [
            " * sqlite://\n",
            "Done.\n"
          ],
          "name": "stdout"
        },
        {
          "output_type": "execute_result",
          "data": {
            "text/html": [
              "<table>\n",
              "    <thead>\n",
              "        <tr>\n",
              "            <th>Funding_Source</th>\n",
              "            <th>Total_-_Grant_Budget_Est_KES</th>\n",
              "        </tr>\n",
              "    </thead>\n",
              "    <tbody>\n",
              "        <tr>\n",
              "            <td> United Nations Development Programme (UNDP)</td>\n",
              "            <td>1436627037</td>\n",
              "        </tr>\n",
              "        <tr>\n",
              "            <td> African Development Bank/ Fund</td>\n",
              "            <td>1700000000</td>\n",
              "        </tr>\n",
              "    </tbody>\n",
              "</table>"
            ],
            "text/plain": [
              "[(' United Nations Development Programme (UNDP)', 1436627037),\n",
              " (' African Development Bank/ Fund', 1700000000)]"
            ]
          },
          "metadata": {
            "tags": []
          },
          "execution_count": 11
        }
      ]
    },
    {
      "cell_type": "code",
      "metadata": {
        "colab": {
          "base_uri": "https://localhost:8080/"
        },
        "id": "JhzG62Q9YPCn",
        "outputId": "396c7b78-52c3-4f78-e637-b7c824a17af9"
      },
      "source": [
        "# Challenge 2\n",
        "# Data Cleaning\n",
        "# Find the records whose difference of Total urban population \n",
        "# and peri urban population does not result to the core urban population.\n",
        "#\n",
        "%%sql\n",
        "SELECT * FROM Urban_Centres\n",
        "WHERE  Core_urban_population!=ABS(Peri_urban_population-Total_population);"
      ],
      "execution_count": null,
      "outputs": [
        {
          "output_type": "stream",
          "text": [
            " * sqlite://\n",
            "Done.\n"
          ],
          "name": "stdout"
        },
        {
          "output_type": "execute_result",
          "data": {
            "text/html": [
              "<table>\n",
              "    <thead>\n",
              "        <tr>\n",
              "            <th>Urban_centre</th>\n",
              "            <th>Total_population</th>\n",
              "            <th>Core_urban_population</th>\n",
              "            <th>Peri_urban_population</th>\n",
              "            <th>Sex_ratio</th>\n",
              "            <th>co-ordinates</th>\n",
              "            <th>OBJECTID</th>\n",
              "        </tr>\n",
              "    </thead>\n",
              "    <tbody>\n",
              "    </tbody>\n",
              "</table>"
            ],
            "text/plain": [
              "[]"
            ]
          },
          "metadata": {
            "tags": []
          },
          "execution_count": 12
        }
      ]
    },
    {
      "cell_type": "code",
      "metadata": {
        "colab": {
          "base_uri": "https://localhost:8080/"
        },
        "id": "hHIXv7NE5dij",
        "outputId": "447fb8a5-b424-4e21-b133-29088d690e6d"
      },
      "source": [
        "# Challenge 3 \n",
        "# Which donors funded projects amounting to less than than 10% of the project cost?\n",
        "#\n",
        "%%sql\n",
        "SELECT Funding_Source FROM Government_Budget\n",
        "WHERE Total_Budget_Supported__by_Donors_KES<(0.1*Total_Project_Cost_KES);"
      ],
      "execution_count": null,
      "outputs": [
        {
          "output_type": "stream",
          "text": [
            " * sqlite://\n",
            "Done.\n"
          ],
          "name": "stdout"
        },
        {
          "output_type": "execute_result",
          "data": {
            "text/html": [
              "<table>\n",
              "    <thead>\n",
              "        <tr>\n",
              "            <th>Funding_Source</th>\n",
              "        </tr>\n",
              "    </thead>\n",
              "    <tbody>\n",
              "        <tr>\n",
              "            <td> European Investment Bank</td>\n",
              "        </tr>\n",
              "        <tr>\n",
              "            <td>Government of Kenya</td>\n",
              "        </tr>\n",
              "        <tr>\n",
              "            <td> Government of Spain</td>\n",
              "        </tr>\n",
              "        <tr>\n",
              "            <td> Government of South Korea</td>\n",
              "        </tr>\n",
              "        <tr>\n",
              "            <td> Investment Climate Facility (ICF)</td>\n",
              "        </tr>\n",
              "        <tr>\n",
              "            <td> International Development Association (IDA)</td>\n",
              "        </tr>\n",
              "        <tr>\n",
              "            <td> Government of Germany (GIZ GERMANY)</td>\n",
              "        </tr>\n",
              "        <tr>\n",
              "            <td> Government of Germany (KFW GERMANY)</td>\n",
              "        </tr>\n",
              "        <tr>\n",
              "            <td> Government of France</td>\n",
              "        </tr>\n",
              "    </tbody>\n",
              "</table>"
            ],
            "text/plain": [
              "[(' European Investment Bank',),\n",
              " ('Government of Kenya',),\n",
              " (' Government of Spain',),\n",
              " (' Government of South Korea',),\n",
              " (' Investment Climate Facility (ICF)',),\n",
              " (' International Development Association (IDA)',),\n",
              " (' Government of Germany (GIZ GERMANY)',),\n",
              " (' Government of Germany (KFW GERMANY)',),\n",
              " (' Government of France',)]"
            ]
          },
          "metadata": {
            "tags": []
          },
          "execution_count": 13
        }
      ]
    },
    {
      "cell_type": "markdown",
      "metadata": {
        "id": "5t8zd5x4Wy0c"
      },
      "source": [
        "## 1.4 Minimum and Maximum\n"
      ]
    },
    {
      "cell_type": "code",
      "metadata": {
        "colab": {
          "base_uri": "https://localhost:8080/",
          "height": 95
        },
        "id": "1VFu1XmdYSFT",
        "outputId": "9c362a76-0f45-4001-eaa9-a142863ed87b"
      },
      "source": [
        "# Example 1\n",
        "# Which urban centres had the most core urban population?\n",
        "#\n",
        "%%sql \n",
        "SELECT Urban_Centre, MAX(Core_urban_population) FROM Urban_Centres;"
      ],
      "execution_count": null,
      "outputs": [
        {
          "output_type": "stream",
          "text": [
            " * sqlite://\n",
            "Done.\n"
          ],
          "name": "stdout"
        },
        {
          "output_type": "execute_result",
          "data": {
            "text/html": [
              "<table>\n",
              "    <thead>\n",
              "        <tr>\n",
              "            <th>Urban_centre</th>\n",
              "            <th>MAX(Core_urban_population)</th>\n",
              "        </tr>\n",
              "    </thead>\n",
              "    <tbody>\n",
              "        <tr>\n",
              "            <td>Nairobi</td>\n",
              "            <td>3109861</td>\n",
              "        </tr>\n",
              "    </tbody>\n",
              "</table>"
            ],
            "text/plain": [
              "[('Nairobi', 3109861)]"
            ]
          },
          "metadata": {
            "tags": []
          },
          "execution_count": 116
        }
      ]
    },
    {
      "cell_type": "code",
      "metadata": {
        "colab": {
          "base_uri": "https://localhost:8080/",
          "height": 95
        },
        "id": "NKUNdacAYTYN",
        "outputId": "11d490dc-d221-450c-b13c-37e211775461"
      },
      "source": [
        "# Example 2\n",
        "# Maximum Example\n",
        "# Which urban centre had the least total urban population?\n",
        "# \n",
        "%%sql \n",
        "SELECT Urban_Centre, MIN(Total_population) FROM Urban_Centres;"
      ],
      "execution_count": null,
      "outputs": [
        {
          "output_type": "stream",
          "text": [
            " * sqlite://\n",
            "Done.\n"
          ],
          "name": "stdout"
        },
        {
          "output_type": "execute_result",
          "data": {
            "text/html": [
              "<table>\n",
              "    <thead>\n",
              "        <tr>\n",
              "            <th>Urban_centre</th>\n",
              "            <th>MIN(Total_population)</th>\n",
              "        </tr>\n",
              "    </thead>\n",
              "    <tbody>\n",
              "        <tr>\n",
              "            <td>Sololo</td>\n",
              "            <td>5035</td>\n",
              "        </tr>\n",
              "    </tbody>\n",
              "</table>"
            ],
            "text/plain": [
              "[('Sololo', 5035)]"
            ]
          },
          "metadata": {
            "tags": []
          },
          "execution_count": 117
        }
      ]
    },
    {
      "cell_type": "code",
      "metadata": {
        "colab": {
          "base_uri": "https://localhost:8080/",
          "height": 95
        },
        "id": "tx5-cA-BYUUw",
        "outputId": "0dfa315b-2c17-4ff0-89af-c163547c8e51"
      },
      "source": [
        "# Example 3\n",
        "# Which urban centre with a sex ratio > 90 had the least total urban population?\n",
        "# \n",
        "%%sql \n",
        "SELECT Urban_Centre, MIN(Total_population) FROM Urban_Centres WHERE Sex_ratio > 90;"
      ],
      "execution_count": null,
      "outputs": [
        {
          "output_type": "stream",
          "text": [
            " * sqlite://\n",
            "Done.\n"
          ],
          "name": "stdout"
        },
        {
          "output_type": "execute_result",
          "data": {
            "text/html": [
              "<table>\n",
              "    <thead>\n",
              "        <tr>\n",
              "            <th>Urban_centre</th>\n",
              "            <th>MIN(Total_population)</th>\n",
              "        </tr>\n",
              "    </thead>\n",
              "    <tbody>\n",
              "        <tr>\n",
              "            <td>Sololo</td>\n",
              "            <td>5035</td>\n",
              "        </tr>\n",
              "    </tbody>\n",
              "</table>"
            ],
            "text/plain": [
              "[('Sololo', 5035)]"
            ]
          },
          "metadata": {
            "tags": []
          },
          "execution_count": 120
        }
      ]
    },
    {
      "cell_type": "markdown",
      "metadata": {
        "id": "Toyc2mT_YWK5"
      },
      "source": [
        "### <font color=\"green\">1.4 Challenges</font>"
      ]
    },
    {
      "cell_type": "code",
      "metadata": {
        "colab": {
          "base_uri": "https://localhost:8080/",
          "height": 95
        },
        "id": "m15e5g8bYZI6",
        "outputId": "3c5e504b-92d1-4ea3-de3f-bb18dae60ec6"
      },
      "source": [
        "# Challenge 1 \n",
        "# Which government projects had the most grant funding?\n",
        "# Hint: \"Total_-_Grant_Budget_Est_KES\" encolse column with double quotes\n",
        "#\n",
        "%%sql\n",
        "SELECT OBJECTID,MAX(\"Total_-_Grant_Budget_Est_KES\") FROM Government_Budget;"
      ],
      "execution_count": null,
      "outputs": [
        {
          "output_type": "stream",
          "text": [
            " * sqlite://\n",
            "Done.\n"
          ],
          "name": "stdout"
        },
        {
          "output_type": "execute_result",
          "data": {
            "text/html": [
              "<table>\n",
              "    <thead>\n",
              "        <tr>\n",
              "            <th>OBJECTID</th>\n",
              "            <th>MAX(&quot;Total_-_Grant_Budget_Est_KES&quot;)</th>\n",
              "        </tr>\n",
              "    </thead>\n",
              "    <tbody>\n",
              "        <tr>\n",
              "            <td>27</td>\n",
              "            <td>33054201792</td>\n",
              "        </tr>\n",
              "    </tbody>\n",
              "</table>"
            ],
            "text/plain": [
              "[(27, 33054201792)]"
            ]
          },
          "metadata": {
            "tags": []
          },
          "execution_count": 123
        }
      ]
    },
    {
      "cell_type": "code",
      "metadata": {
        "colab": {
          "base_uri": "https://localhost:8080/",
          "height": 95
        },
        "id": "vERo_CIB7wGG",
        "outputId": "83a9bd62-da20-4e7d-ec6e-583a6c1747f2"
      },
      "source": [
        "# Challenge 2\n",
        "# Which government projects had the least loan funding?\n",
        "# \n",
        "%%sql\n",
        "SELECT OBJECTID,MIN(\"Total_-_Loan_Budget_Est_KES\") FROM Government_Budget;"
      ],
      "execution_count": null,
      "outputs": [
        {
          "output_type": "stream",
          "text": [
            " * sqlite://\n",
            "Done.\n"
          ],
          "name": "stdout"
        },
        {
          "output_type": "execute_result",
          "data": {
            "text/html": [
              "<table>\n",
              "    <thead>\n",
              "        <tr>\n",
              "            <th>OBJECTID</th>\n",
              "            <th>MIN(&quot;Total_-_Loan_Budget_Est_KES&quot;)</th>\n",
              "        </tr>\n",
              "    </thead>\n",
              "    <tbody>\n",
              "        <tr>\n",
              "            <td>2</td>\n",
              "            <td>0</td>\n",
              "        </tr>\n",
              "    </tbody>\n",
              "</table>"
            ],
            "text/plain": [
              "[(2, 0)]"
            ]
          },
          "metadata": {
            "tags": []
          },
          "execution_count": 125
        }
      ]
    },
    {
      "cell_type": "code",
      "metadata": {
        "colab": {
          "base_uri": "https://localhost:8080/",
          "height": 95
        },
        "id": "AcxfwqNLYY4r",
        "outputId": "78fcf0e6-9cc7-40dd-c5bb-61fa0004785f"
      },
      "source": [
        "# Challenge \n",
        "# Which governments projects had the least loan funding and had \n",
        "# grant funding greater than donor funding?\n",
        "#\n",
        "%%sql\n",
        "SELECT OBJECTID,MIN(\"Total_-_Loan_Budget_Est_KES\") FROM Government_Budget\n",
        "WHERE\"Total_-_Grant_Budget_Est_KES\">\"Total_Budget_Supported__by_Donors_KES\" ;"
      ],
      "execution_count": null,
      "outputs": [
        {
          "output_type": "stream",
          "text": [
            " * sqlite://\n",
            "Done.\n"
          ],
          "name": "stdout"
        },
        {
          "output_type": "execute_result",
          "data": {
            "text/html": [
              "<table>\n",
              "    <thead>\n",
              "        <tr>\n",
              "            <th>OBJECTID</th>\n",
              "            <th>MIN(&quot;Total_-_Loan_Budget_Est_KES&quot;)</th>\n",
              "        </tr>\n",
              "    </thead>\n",
              "    <tbody>\n",
              "        <tr>\n",
              "            <td>None</td>\n",
              "            <td>None</td>\n",
              "        </tr>\n",
              "    </tbody>\n",
              "</table>"
            ],
            "text/plain": [
              "[(None, None)]"
            ]
          },
          "metadata": {
            "tags": []
          },
          "execution_count": 128
        }
      ]
    },
    {
      "cell_type": "markdown",
      "metadata": {
        "id": "3vgAkdXmW3VP"
      },
      "source": [
        "## 1.5 The Aggregate SUM() function\n"
      ]
    },
    {
      "cell_type": "code",
      "metadata": {
        "colab": {
          "base_uri": "https://localhost:8080/",
          "height": 95
        },
        "id": "H1ZjnGR8XGGm",
        "outputId": "f74c1755-1636-49a3-e123-d7797ff81d75"
      },
      "source": [
        "# Example 1\n",
        "# What was the total loan Budget of all government projects?\n",
        "#\n",
        "%%sql \n",
        "SELECT SUM(\"Total_-_Loan_Budget_Est_KES\") FROM Government_Budget;"
      ],
      "execution_count": null,
      "outputs": [
        {
          "output_type": "stream",
          "text": [
            " * sqlite://\n",
            "Done.\n"
          ],
          "name": "stdout"
        },
        {
          "output_type": "execute_result",
          "data": {
            "text/html": [
              "<table>\n",
              "    <thead>\n",
              "        <tr>\n",
              "            <th>SUM(&quot;Total_-_Loan_Budget_Est_KES&quot;)</th>\n",
              "        </tr>\n",
              "    </thead>\n",
              "    <tbody>\n",
              "        <tr>\n",
              "            <td>374828211075</td>\n",
              "        </tr>\n",
              "    </tbody>\n",
              "</table>"
            ],
            "text/plain": [
              "[(374828211075,)]"
            ]
          },
          "metadata": {
            "tags": []
          },
          "execution_count": 129
        }
      ]
    },
    {
      "cell_type": "code",
      "metadata": {
        "colab": {
          "base_uri": "https://localhost:8080/",
          "height": 95
        },
        "id": "I5BwLcN2YfO1",
        "outputId": "9c0fa1c8-7f40-466f-a5a3-73b42f24abe5"
      },
      "source": [
        "# Example 2\n",
        "# What was the total project cost for all government projects where the total \n",
        "# loan budget is greater than the total grant budget?\n",
        "#\n",
        "%%sql \n",
        "SELECT SUM(Total_Project_Cost_KES) FROM Government_Budget \n",
        "WHERE \"Total_-_Loan_Budget_Est_KES\" < \"Total_-_Grant_Budget_Est_KES\t\" ;"
      ],
      "execution_count": null,
      "outputs": [
        {
          "output_type": "stream",
          "text": [
            " * sqlite://\n",
            "Done.\n"
          ],
          "name": "stdout"
        },
        {
          "output_type": "execute_result",
          "data": {
            "text/html": [
              "<table>\n",
              "    <thead>\n",
              "        <tr>\n",
              "            <th>SUM(Total_Project_Cost_KES)</th>\n",
              "        </tr>\n",
              "    </thead>\n",
              "    <tbody>\n",
              "        <tr>\n",
              "            <td>228201585899569</td>\n",
              "        </tr>\n",
              "    </tbody>\n",
              "</table>"
            ],
            "text/plain": [
              "[(228201585899569,)]"
            ]
          },
          "metadata": {
            "tags": []
          },
          "execution_count": 130
        }
      ]
    },
    {
      "cell_type": "code",
      "metadata": {
        "colab": {
          "base_uri": "https://localhost:8080/",
          "height": 95
        },
        "id": "06LLcXgsYgHo",
        "outputId": "87ef1461-8bcf-4d66-a3fb-d90ba8039b6c"
      },
      "source": [
        "# Example 3\n",
        "# What was the total Core urban population in Kenya?\n",
        "#\n",
        "%%sql \n",
        "SELECT SUM(Core_urban_population) FROM Urban_Centres;"
      ],
      "execution_count": null,
      "outputs": [
        {
          "output_type": "stream",
          "text": [
            " * sqlite://\n",
            "Done.\n"
          ],
          "name": "stdout"
        },
        {
          "output_type": "execute_result",
          "data": {
            "text/html": [
              "<table>\n",
              "    <thead>\n",
              "        <tr>\n",
              "            <th>SUM(Core_urban_population)</th>\n",
              "        </tr>\n",
              "    </thead>\n",
              "    <tbody>\n",
              "        <tr>\n",
              "            <td>8877819</td>\n",
              "        </tr>\n",
              "    </tbody>\n",
              "</table>"
            ],
            "text/plain": [
              "[(8877819,)]"
            ]
          },
          "metadata": {
            "tags": []
          },
          "execution_count": 131
        }
      ]
    },
    {
      "cell_type": "markdown",
      "metadata": {
        "id": "tpsZ1JXvYhgd"
      },
      "source": [
        "### <font color=\"green\">1.5 Challenges</font>"
      ]
    },
    {
      "cell_type": "code",
      "metadata": {
        "colab": {
          "base_uri": "https://localhost:8080/",
          "height": 95
        },
        "id": "qwtLrr8cYnbe",
        "outputId": "c837bc59-4cff-4e22-c3b5-eee983bb6893"
      },
      "source": [
        "# Challenge 1\n",
        "# What was the total urban centre population?\n",
        "# \n",
        "%%sql\n",
        "SELECT SUM(Total_population)FROM Urban_Centres"
      ],
      "execution_count": null,
      "outputs": [
        {
          "output_type": "stream",
          "text": [
            " * sqlite://\n",
            "Done.\n"
          ],
          "name": "stdout"
        },
        {
          "output_type": "execute_result",
          "data": {
            "text/html": [
              "<table>\n",
              "    <thead>\n",
              "        <tr>\n",
              "            <th>SUM(Total_population)</th>\n",
              "        </tr>\n",
              "    </thead>\n",
              "    <tbody>\n",
              "        <tr>\n",
              "            <td>11789364</td>\n",
              "        </tr>\n",
              "    </tbody>\n",
              "</table>"
            ],
            "text/plain": [
              "[(11789364,)]"
            ]
          },
          "metadata": {
            "tags": []
          },
          "execution_count": 134
        }
      ]
    },
    {
      "cell_type": "code",
      "metadata": {
        "colab": {
          "base_uri": "https://localhost:8080/",
          "height": 95
        },
        "id": "R4w-o97JYo7m",
        "outputId": "d6e74c81-016c-40fe-d5f4-0fc9bd57d893"
      },
      "source": [
        "# Challenge 2\n",
        "# What was the sum of the urban centre populations with\n",
        "# core urban population less than peri urban population?\n",
        "# \n",
        "%%sql\n",
        "SELECT SUM(Total_population)FROM Urban_Centres\n",
        "WHERE \"Peri_urban_population\">\"Core_urban_population\""
      ],
      "execution_count": null,
      "outputs": [
        {
          "output_type": "stream",
          "text": [
            " * sqlite://\n",
            "Done.\n"
          ],
          "name": "stdout"
        },
        {
          "output_type": "execute_result",
          "data": {
            "text/html": [
              "<table>\n",
              "    <thead>\n",
              "        <tr>\n",
              "            <th>SUM(Total_population)</th>\n",
              "        </tr>\n",
              "    </thead>\n",
              "    <tbody>\n",
              "        <tr>\n",
              "            <td>2506812</td>\n",
              "        </tr>\n",
              "    </tbody>\n",
              "</table>"
            ],
            "text/plain": [
              "[(2506812,)]"
            ]
          },
          "metadata": {
            "tags": []
          },
          "execution_count": 137
        }
      ]
    },
    {
      "cell_type": "code",
      "metadata": {
        "colab": {
          "base_uri": "https://localhost:8080/",
          "height": 111
        },
        "id": "hXyLQmF4vl-p",
        "outputId": "0ac4ef32-c523-4e53-a691-c3033e7e6e7f"
      },
      "source": [
        "\n",
        "%%sql \n",
        "SELECT *\n",
        "FROM Households\n",
        "WHERE county IS NULL;"
      ],
      "execution_count": null,
      "outputs": [
        {
          "output_type": "stream",
          "text": [
            " * sqlite://\n",
            "Done.\n"
          ],
          "name": "stdout"
        },
        {
          "output_type": "execute_result",
          "data": {
            "text/html": [
              "<table>\n",
              "    <tr>\n",
              "        <th>County</th>\n",
              "        <th>Gender</th>\n",
              "        <th>Age_Group_of_Household_head_15-24_%_</th>\n",
              "        <th>Age_Group_of_Household_head_25-34_%</th>\n",
              "        <th>Age_Group_of_Household_head_35-59_%</th>\n",
              "        <th>Age_Group_of_Household_head_60+_%</th>\n",
              "        <th>Number_of_households</th>\n",
              "        <th>County_Centroid</th>\n",
              "        <th>OBJECTID</th>\n",
              "    </tr>\n",
              "</table>"
            ],
            "text/plain": [
              "[]"
            ]
          },
          "metadata": {
            "tags": []
          },
          "execution_count": 19
        }
      ]
    },
    {
      "cell_type": "code",
      "metadata": {
        "colab": {
          "base_uri": "https://localhost:8080/",
          "height": 95
        },
        "id": "uRpFweEUYqDx",
        "outputId": "75e26768-1e29-4771-a990-e7a94f95d5dc"
      },
      "source": [
        "# Challenge 3\n",
        "# What was the sum of male and female households in Mombasa and Nairobi?\n",
        "# \n",
        "%%sql \n",
        "SELECT SUM(Number_of_households) FROM Households WHERE county=\"Nairobi\" or county=\"Mombasa\""
      ],
      "execution_count": null,
      "outputs": [
        {
          "output_type": "stream",
          "text": [
            " * sqlite://\n",
            "Done.\n"
          ],
          "name": "stdout"
        },
        {
          "output_type": "execute_result",
          "data": {
            "text/html": [
              "<table>\n",
              "    <thead>\n",
              "        <tr>\n",
              "            <th>SUM(Number_of_households)</th>\n",
              "        </tr>\n",
              "    </thead>\n",
              "    <tbody>\n",
              "        <tr>\n",
              "            <td>1253716</td>\n",
              "        </tr>\n",
              "    </tbody>\n",
              "</table>"
            ],
            "text/plain": [
              "[(1253716,)]"
            ]
          },
          "metadata": {
            "tags": []
          },
          "execution_count": 149
        }
      ]
    }
  ]
}