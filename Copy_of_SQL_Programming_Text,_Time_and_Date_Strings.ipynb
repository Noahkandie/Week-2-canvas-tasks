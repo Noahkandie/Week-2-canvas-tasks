{
  "nbformat": 4,
  "nbformat_minor": 0,
  "metadata": {
    "colab": {
      "name": "Copy of SQL Programming - Text, Time and Date Strings",
      "provenance": [],
      "collapsed_sections": [
        "gns5TJfPZCCB",
        "yLQD0MY2a-2H",
        "hZMiwaprbFRD",
        "TUnOLEFCbk0o",
        "dyTun0GIbK67",
        "pS4CWYNGcJZw",
        "JkZaAjv-bSPO",
        "VIT5Iy-kcSMl"
      ],
      "toc_visible": true
    },
    "kernelspec": {
      "name": "python3",
      "display_name": "Python 3"
    }
  },
  "cells": [
    {
      "cell_type": "markdown",
      "metadata": {
        "id": "Ex7oqvOZZZQu"
      },
      "source": [
        "<font color=\"green\">*To start working on this notebook, or any other notebook that we will use in the Moringa Data Science Course, we will need to save our own copy of it. We can do this by clicking File > Save a Copy in Drive. We will then be able to make edits to our own copy of this notebook.*</font>"
      ]
    },
    {
      "cell_type": "markdown",
      "metadata": {
        "id": "OIIswKWoZEob"
      },
      "source": [
        "# 1. SQL Programming - Text, Time and Date Strings"
      ]
    },
    {
      "cell_type": "markdown",
      "metadata": {
        "id": "gns5TJfPZCCB"
      },
      "source": [
        "## 1.0 Connecting to our Database"
      ]
    },
    {
      "cell_type": "code",
      "metadata": {
        "id": "aR2xslaQWceL",
        "colab": {
          "base_uri": "https://localhost:8080/",
          "height": 35
        },
        "outputId": "9e835b4d-8e90-48bc-c2e2-431e4bfe992e"
      },
      "source": [
        "# We will first load the sql extension into our environment\n",
        "%load_ext sql\n",
        "\n",
        "# Then connect to our in memory sqlite database\n",
        "# NB: This database will cease to exist as soon as the database connection is closed. \n",
        "%sql sqlite://"
      ],
      "execution_count": null,
      "outputs": [
        {
          "output_type": "execute_result",
          "data": {
            "application/vnd.google.colaboratory.intrinsic+json": {
              "type": "string"
            },
            "text/plain": [
              "'Connected: @None'"
            ]
          },
          "metadata": {
            "tags": []
          },
          "execution_count": 1
        }
      ]
    },
    {
      "cell_type": "markdown",
      "metadata": {
        "id": "RPsqmCbjcljo"
      },
      "source": [
        "Datasets used in this notebook:\n",
        "\n",
        "\n",
        "1.   **Main Lighting Energy Sources averaged to Districts in 2009**\n",
        "\n",
        "> ([Dataset Download Link](https://drive.google.com/a/moringaschool.com/file/d/1XyZwH35bo99OZIAGHH8LMN48stLwyG-b/view?usp=sharing))\n",
        "\n",
        "2.   **Kisumu County Energy and Mining Project Implementation Status** \n",
        "\n",
        "> ([Dataset Download Link](https://drive.google.com/a/moringaschool.com/file/d/1awhsX-tmd_RvM1PxPhhg21GTFuDn34ca/view?usp=sharing))\n",
        "\n",
        "3. **Population by District**\n",
        "\n",
        ">  ([Dataset Download Link](https://drive.google.com/a/moringaschool.com/file/d/1ZpbtJ-YAzfAtnQ4k-R_zpEbYRvP5lZhr/view?usp=sharing))\n",
        "\n",
        "4. **Visitors to Kenya between 1991 to 2014**\n",
        "\n",
        ">  ([Dataset Download Link](https://drive.google.com/a/moringaschool.com/file/d/1FJs1YU76tRyHEtHU6w62LYQlR8Jz_4d1/view?usp=sharing))\n",
        "\n",
        "5. **Boston Marathon Results 2016**\n",
        "\n",
        ">  ([Dataset Download Link](https://drive.google.com/a/moringaschool.com/file/d/1FKhXZemUZuwYSJydUDgukyqJt3ouvKGi/view?usp=sharing))\n",
        "\n",
        "6. **Kenyan Government Appointments**\n",
        "\n",
        ">  ([Dataset Download Link](https://drive.google.com/a/moringaschool.com/file/d/19m7bydCYOyH8qb68S-Jn-dAX0TrjSHKh/view?usp=sharing))\n",
        "\n",
        "7. **Tea Production**\n",
        "\n",
        ">  ([Dataset Download Link](https://drive.google.com/open?id=1Nf3SfkLuxK8oWX2m_RAOILLrpY7pFDaF))\n",
        "\n"
      ]
    },
    {
      "cell_type": "markdown",
      "metadata": {
        "id": "yLQD0MY2a-2H"
      },
      "source": [
        "## 1.1 Loading our Datasets"
      ]
    },
    {
      "cell_type": "code",
      "metadata": {
        "id": "hqLapdFXbfsp"
      },
      "source": [
        "# Importing Pandas\n",
        "import pandas as pd"
      ],
      "execution_count": null,
      "outputs": []
    },
    {
      "cell_type": "code",
      "metadata": {
        "id": "4eDIVhifGiZh",
        "colab": {
          "base_uri": "https://localhost:8080/",
          "height": 231
        },
        "outputId": "95d1f10c-c9ea-42a3-8f2d-e40084d65df5"
      },
      "source": [
        "# Loading our lighting dataset  from the respective CSV file \n",
        "with open('lighting_dataset.csv','r') as f:\n",
        "    LightingDataset = pd.read_csv(f, index_col=0, encoding='utf-8')\n",
        "%sql DROP TABLE LightingDataset;\n",
        "%sql PERSIST LightingDataset;\n",
        "%sql SELECT * FROM LightingDataset LIMIT 5;"
      ],
      "execution_count": null,
      "outputs": [
        {
          "output_type": "error",
          "ename": "FileNotFoundError",
          "evalue": "ignored",
          "traceback": [
            "\u001b[0;31m---------------------------------------------------------------------------\u001b[0m",
            "\u001b[0;31mFileNotFoundError\u001b[0m                         Traceback (most recent call last)",
            "\u001b[0;32m<ipython-input-3-02b1f9b9daf6>\u001b[0m in \u001b[0;36m<module>\u001b[0;34m()\u001b[0m\n\u001b[1;32m      1\u001b[0m \u001b[0;31m# Loading our lighting dataset  from the respective CSV file\u001b[0m\u001b[0;34m\u001b[0m\u001b[0;34m\u001b[0m\u001b[0;34m\u001b[0m\u001b[0m\n\u001b[0;32m----> 2\u001b[0;31m \u001b[0;32mwith\u001b[0m \u001b[0mopen\u001b[0m\u001b[0;34m(\u001b[0m\u001b[0;34m'lighting_dataset.csv'\u001b[0m\u001b[0;34m,\u001b[0m\u001b[0;34m'r'\u001b[0m\u001b[0;34m)\u001b[0m \u001b[0;32mas\u001b[0m \u001b[0mf\u001b[0m\u001b[0;34m:\u001b[0m\u001b[0;34m\u001b[0m\u001b[0;34m\u001b[0m\u001b[0m\n\u001b[0m\u001b[1;32m      3\u001b[0m     \u001b[0mLightingDataset\u001b[0m \u001b[0;34m=\u001b[0m \u001b[0mpd\u001b[0m\u001b[0;34m.\u001b[0m\u001b[0mread_csv\u001b[0m\u001b[0;34m(\u001b[0m\u001b[0mf\u001b[0m\u001b[0;34m,\u001b[0m \u001b[0mindex_col\u001b[0m\u001b[0;34m=\u001b[0m\u001b[0;36m0\u001b[0m\u001b[0;34m,\u001b[0m \u001b[0mencoding\u001b[0m\u001b[0;34m=\u001b[0m\u001b[0;34m'utf-8'\u001b[0m\u001b[0;34m)\u001b[0m\u001b[0;34m\u001b[0m\u001b[0;34m\u001b[0m\u001b[0m\n\u001b[1;32m      4\u001b[0m \u001b[0mget_ipython\u001b[0m\u001b[0;34m(\u001b[0m\u001b[0;34m)\u001b[0m\u001b[0;34m.\u001b[0m\u001b[0mmagic\u001b[0m\u001b[0;34m(\u001b[0m\u001b[0;34m'sql DROP TABLE LightingDataset;'\u001b[0m\u001b[0;34m)\u001b[0m\u001b[0;34m\u001b[0m\u001b[0;34m\u001b[0m\u001b[0m\n\u001b[1;32m      5\u001b[0m \u001b[0mget_ipython\u001b[0m\u001b[0;34m(\u001b[0m\u001b[0;34m)\u001b[0m\u001b[0;34m.\u001b[0m\u001b[0mmagic\u001b[0m\u001b[0;34m(\u001b[0m\u001b[0;34m'sql PERSIST LightingDataset;'\u001b[0m\u001b[0;34m)\u001b[0m\u001b[0;34m\u001b[0m\u001b[0;34m\u001b[0m\u001b[0m\n",
            "\u001b[0;31mFileNotFoundError\u001b[0m: [Errno 2] No such file or directory: 'lighting_dataset.csv'"
          ]
        }
      ]
    },
    {
      "cell_type": "code",
      "metadata": {
        "id": "O7g4-q_-d8N-"
      },
      "source": [
        "# Loading our energy mining dataset from the respective CSV file \n",
        "with open('energy_mining_dataset.csv','r') as f:\n",
        "    energymining= pd.read_csv(f, index_col=0, encoding='utf-8')\n",
        "%sql DROP TABLE energymining;\n",
        "%sql PERSIST energymining;\n",
        "%sql SELECT * FROM energymining LIMIT 5;"
      ],
      "execution_count": null,
      "outputs": []
    },
    {
      "cell_type": "code",
      "metadata": {
        "id": "4LxuTNcW2IgY"
      },
      "source": [
        "# Loading our population by districtdataset from the respective CSV file\n",
        "with open('/content/population_by_district.csv','r') as f:\n",
        "    districtdataset= pd.read_csv(f, index_col=0, encoding='utf-8')\n",
        "%sql DROP TABLE districtdataset;\n",
        "%sql PERSIST districtdataset;\n",
        "%sql SELECT * FROM districtdataset LIMIT 5;"
      ],
      "execution_count": null,
      "outputs": []
    },
    {
      "cell_type": "code",
      "metadata": {
        "id": "A31Y9nJFGW1o"
      },
      "source": [
        "# Loading our visitors to kenya dataset from the respective CSV file\n",
        "with open('/content/visitors_to_kenya.csv','r') as f:\n",
        "    KenyanVisitors= pd.read_csv(f, index_col=0, encoding='utf-8')\n",
        "%sql DROP TABLE KenyanVisitors;\n",
        "%sql PERSIST KenyanVisitors;\n",
        "%sql SELECT * FROM KenyanVisitors LIMIT 5;"
      ],
      "execution_count": null,
      "outputs": []
    },
    {
      "cell_type": "code",
      "metadata": {
        "id": "oQlC_rF6vkAt"
      },
      "source": [
        "# Loading our marathon dataset from the respective CSV file\n",
        "#\n",
        "with open('/content/marathon_results_2016.csv','r') as f:\n",
        "    marathonresults= pd.read_csv(f, index_col=0, encoding='utf-8')\n",
        "%sql DROP TABLE marathonresults;\n",
        "%sql PERSIST marathonresults;\n",
        "%sql SELECT * FROM marathonresults LIMIT 5;"
      ],
      "execution_count": null,
      "outputs": []
    },
    {
      "cell_type": "code",
      "metadata": {
        "id": "NGeUQqRMLQU7",
        "colab": {
          "base_uri": "https://localhost:8080/",
          "height": 505
        },
        "outputId": "0936f627-04a5-4b55-c169-6319f0318fbd"
      },
      "source": [
        "# Loading our Kenyan government appointments dataset below\n",
        "#\n",
        "with open('/content/government_appointments.csv','r') as f:\n",
        "    government_appointments= pd.read_csv(f, index_col=0, encoding='utf-8')\n",
        "%sql DROP TABLE government_appointments;\n",
        "%sql PERSIST government_appointments;\n",
        "%sql SELECT * FROM government_appointments LIMIT 5;"
      ],
      "execution_count": null,
      "outputs": [
        {
          "output_type": "stream",
          "text": [
            " * sqlite://\n",
            "(sqlite3.OperationalError) no such table: government_appointments\n",
            "[SQL: DROP TABLE government_appointments;]\n",
            "(Background on this error at: http://sqlalche.me/e/14/e3q8)\n",
            " * sqlite://\n",
            " * sqlite://\n",
            "Done.\n"
          ],
          "name": "stdout"
        },
        {
          "output_type": "execute_result",
          "data": {
            "text/html": [
              "<table>\n",
              "    <thead>\n",
              "        <tr>\n",
              "            <th>GAZETTE_NOTICE_NO_</th>\n",
              "            <th>Year</th>\n",
              "            <th>ACT</th>\n",
              "            <th>Cap</th>\n",
              "            <th>Persons_Appointed_</th>\n",
              "            <th>Position_</th>\n",
              "            <th>Date_Appointed_</th>\n",
              "            <th>Start_Date</th>\n",
              "            <th>End_Date</th>\n",
              "            <th>Person_Appointing_</th>\n",
              "            <th>Apointers_Position</th>\n",
              "            <th>Ministry</th>\n",
              "            <th>Parastatle_Appointed_to_</th>\n",
              "            <th>Duration_Months</th>\n",
              "            <th>Status</th>\n",
              "            <th>Gender</th>\n",
              "            <th>Original_GN</th>\n",
              "            <th>Original_GN_Year</th>\n",
              "            <th>OBJECTID</th>\n",
              "        </tr>\n",
              "    </thead>\n",
              "    <tbody>\n",
              "        <tr>\n",
              "            <td>2827</td>\n",
              "            <td>01/01/2015 12:00:00 AM</td>\n",
              "            <td>The State Corporations Act</td>\n",
              "            <td>446.0</td>\n",
              "            <td>Gershom Otachi</td>\n",
              "            <td>Chairperson</td>\n",
              "            <td>04/17/2015 12:00:00 AM</td>\n",
              "            <td>05/20/2015 12:00:00 AM</td>\n",
              "            <td>None</td>\n",
              "            <td>Uhuru Kenyatta</td>\n",
              "            <td>President</td>\n",
              "            <td>None</td>\n",
              "            <td>Geothermal Development Company</td>\n",
              "            <td>36.0</td>\n",
              "            <td>Appointed </td>\n",
              "            <td>m</td>\n",
              "            <td>None</td>\n",
              "            <td>None</td>\n",
              "            <td>0</td>\n",
              "        </tr>\n",
              "        <tr>\n",
              "            <td>2828</td>\n",
              "            <td>01/01/2015 12:00:00 AM</td>\n",
              "            <td>The State Corporations Act</td>\n",
              "            <td>446.0</td>\n",
              "            <td>Sammy Choge</td>\n",
              "            <td>Chairperson</td>\n",
              "            <td>04/17/2015 12:00:00 AM</td>\n",
              "            <td>04/17/2015 12:00:00 AM</td>\n",
              "            <td>None</td>\n",
              "            <td>Uhuru Kenyatta</td>\n",
              "            <td>President</td>\n",
              "            <td>None</td>\n",
              "            <td>Chemelil Sugar Company</td>\n",
              "            <td>36.0</td>\n",
              "            <td>Appointed </td>\n",
              "            <td>m</td>\n",
              "            <td>None</td>\n",
              "            <td>None</td>\n",
              "            <td>1</td>\n",
              "        </tr>\n",
              "        <tr>\n",
              "            <td>2829</td>\n",
              "            <td>01/01/2015 12:00:00 AM</td>\n",
              "            <td>Agricultural Development Corporation Act</td>\n",
              "            <td>444.0</td>\n",
              "            <td>Musa Sirma</td>\n",
              "            <td>Member of the Board</td>\n",
              "            <td>04/17/2015 12:00:00 AM</td>\n",
              "            <td>04/17/2015 12:00:00 AM</td>\n",
              "            <td>None</td>\n",
              "            <td>Uhuru Kenyatta</td>\n",
              "            <td>President</td>\n",
              "            <td>None</td>\n",
              "            <td>Agricultural Development Corporation</td>\n",
              "            <td>36.0</td>\n",
              "            <td>Appointed </td>\n",
              "            <td>m</td>\n",
              "            <td>None</td>\n",
              "            <td>None</td>\n",
              "            <td>2</td>\n",
              "        </tr>\n",
              "        <tr>\n",
              "            <td>2829</td>\n",
              "            <td>01/01/2015 12:00:00 AM</td>\n",
              "            <td>Agricultural Development Corporation Act</td>\n",
              "            <td>444.0</td>\n",
              "            <td>Susan Akinyi Wakiaga</td>\n",
              "            <td>Member of the Board</td>\n",
              "            <td>04/17/2015 12:00:00 AM</td>\n",
              "            <td>04/17/2015 12:00:00 AM</td>\n",
              "            <td>None</td>\n",
              "            <td>Uhuru Kenyatta</td>\n",
              "            <td>President</td>\n",
              "            <td>None</td>\n",
              "            <td>Agricultural Development Corporation</td>\n",
              "            <td>36.0</td>\n",
              "            <td>Appointed </td>\n",
              "            <td>f</td>\n",
              "            <td>None</td>\n",
              "            <td>None</td>\n",
              "            <td>3</td>\n",
              "        </tr>\n",
              "        <tr>\n",
              "            <td>2829</td>\n",
              "            <td>01/01/2015 12:00:00 AM</td>\n",
              "            <td>Agricultural Development Corporation Act</td>\n",
              "            <td>444.0</td>\n",
              "            <td>Joseph Miriti Mwereria</td>\n",
              "            <td>Member of the Board</td>\n",
              "            <td>04/17/2015 12:00:00 AM</td>\n",
              "            <td>04/17/2015 12:00:00 AM</td>\n",
              "            <td>None</td>\n",
              "            <td>Uhuru Kenyatta</td>\n",
              "            <td>President</td>\n",
              "            <td>None</td>\n",
              "            <td>Agricultural Development Corporation</td>\n",
              "            <td>36.0</td>\n",
              "            <td>Appointed </td>\n",
              "            <td>m</td>\n",
              "            <td>None</td>\n",
              "            <td>None</td>\n",
              "            <td>4</td>\n",
              "        </tr>\n",
              "    </tbody>\n",
              "</table>"
            ],
            "text/plain": [
              "[(2827, '01/01/2015 12:00:00 AM', 'The State Corporations Act', 446.0, 'Gershom Otachi', 'Chairperson', '04/17/2015 12:00:00 AM', '05/20/2015 12:00:00 AM', None, 'Uhuru Kenyatta', 'President', None, 'Geothermal Development Company', 36.0, 'Appointed ', 'm', None, None, 0),\n",
              " (2828, '01/01/2015 12:00:00 AM', 'The State Corporations Act', 446.0, 'Sammy Choge', 'Chairperson', '04/17/2015 12:00:00 AM', '04/17/2015 12:00:00 AM', None, 'Uhuru Kenyatta', 'President', None, 'Chemelil Sugar Company', 36.0, 'Appointed ', 'm', None, None, 1),\n",
              " (2829, '01/01/2015 12:00:00 AM', 'Agricultural Development Corporation Act', 444.0, 'Musa Sirma', 'Member of the Board', '04/17/2015 12:00:00 AM', '04/17/2015 12:00:00 AM', None, 'Uhuru Kenyatta', 'President', None, 'Agricultural Development Corporation', 36.0, 'Appointed ', 'm', None, None, 2),\n",
              " (2829, '01/01/2015 12:00:00 AM', 'Agricultural Development Corporation Act', 444.0, 'Susan Akinyi Wakiaga', 'Member of the Board', '04/17/2015 12:00:00 AM', '04/17/2015 12:00:00 AM', None, 'Uhuru Kenyatta', 'President', None, 'Agricultural Development Corporation', 36.0, 'Appointed ', 'f', None, None, 3),\n",
              " (2829, '01/01/2015 12:00:00 AM', 'Agricultural Development Corporation Act', 444.0, 'Joseph Miriti Mwereria', 'Member of the Board', '04/17/2015 12:00:00 AM', '04/17/2015 12:00:00 AM', None, 'Uhuru Kenyatta', 'President', None, 'Agricultural Development Corporation', 36.0, 'Appointed ', 'm', None, None, 4)]"
            ]
          },
          "metadata": {
            "tags": []
          },
          "execution_count": 5
        }
      ]
    },
    {
      "cell_type": "code",
      "metadata": {
        "id": "OdYR80CuMbFD"
      },
      "source": [
        "# Loading our Tea dataset below\n",
        "#\n",
        "\n",
        "with open('/content/tea_production.csv','r') as f:\n",
        "    tea_production= pd.read_csv(f, index_col=0, encoding='utf-8')\n",
        "%sql DROP TABLE tea_production;\n",
        "%sql PERSIST tea_production;\n",
        "%sql SELECT * FROM tea_production LIMIT 5;"
      ],
      "execution_count": null,
      "outputs": []
    },
    {
      "cell_type": "markdown",
      "metadata": {
        "id": "hZMiwaprbFRD"
      },
      "source": [
        "## 1.2 Text Strings"
      ]
    },
    {
      "cell_type": "code",
      "metadata": {
        "id": "_u1m-FQnbh7H"
      },
      "source": [
        "# Example 1\n",
        "# Using the EnergyMining dataset, we can concatenate (combine) \n",
        "# the Ward and County columns (i.e attributes)\n",
        "# into a new column Region. Then only select 5 of those regions\n",
        "#\n",
        "%%sql  \n",
        "SELECT *, WARD || ', ' || COUNTY AS Region\n",
        "FROM EnergyMining LIMIT 5;"
      ],
      "execution_count": null,
      "outputs": []
    },
    {
      "cell_type": "code",
      "metadata": {
        "id": "Rk7JTCrZbhyD"
      },
      "source": [
        "# Example 2\n",
        "# Using the main lighting dataset, we can also replace the null cells with 0\n",
        "# as shown below\n",
        "# \n",
        "%%sql \n",
        "SELECT PROJECT_NAME, REPLACE(\"STATUS\", '100 % Complete', '100%') AS \"Project Status\" \n",
        "FROM EnergyMining;\n"
      ],
      "execution_count": null,
      "outputs": []
    },
    {
      "cell_type": "code",
      "metadata": {
        "id": "mDr4BRmWbhpQ"
      },
      "source": [
        "# Example 3\n",
        "# Using the Population by District dataset, we change values of County column to lowercase \n",
        "# as shown below\n",
        "#\n",
        "%%sql\n",
        "SELECT *, LOWER(County) AS \"County Name\"\n",
        "FROM Districtdataset LIMIT 5;\n"
      ],
      "execution_count": null,
      "outputs": []
    },
    {
      "cell_type": "markdown",
      "metadata": {
        "id": "TUnOLEFCbk0o"
      },
      "source": [
        "### <font color=\"green\">1.2 Challenges</font>"
      ]
    },
    {
      "cell_type": "code",
      "metadata": {
        "id": "DInKcbjQb9lv",
        "colab": {
          "base_uri": "https://localhost:8080/",
          "height": 116
        },
        "outputId": "327e0e97-3f38-4cb6-e446-969bc8da37ac"
      },
      "source": [
        "# Challenge 1\n",
        "# Using the Governments appointments dataset, \n",
        "# in gender field, let's replace m = 1 and f = 0\n",
        "# \n",
        "%%sql\n",
        "SELECT gender, REPLACE(\"gender\",'m','1') AS gender,REPLACE (\"gender\",'f','0') \n",
        "FROM government_appointments LIMIT 2"
      ],
      "execution_count": null,
      "outputs": [
        {
          "output_type": "stream",
          "text": [
            " * sqlite://\n",
            "Done.\n"
          ],
          "name": "stdout"
        },
        {
          "output_type": "execute_result",
          "data": {
            "text/html": [
              "<table>\n",
              "    <thead>\n",
              "        <tr>\n",
              "            <th>Gender</th>\n",
              "            <th>gender</th>\n",
              "            <th>REPLACE (&quot;gender&quot;,&#x27;f&#x27;,&#x27;0&#x27;)</th>\n",
              "        </tr>\n",
              "    </thead>\n",
              "    <tbody>\n",
              "        <tr>\n",
              "            <td>m</td>\n",
              "            <td>1</td>\n",
              "            <td>m</td>\n",
              "        </tr>\n",
              "        <tr>\n",
              "            <td>m</td>\n",
              "            <td>1</td>\n",
              "            <td>m</td>\n",
              "        </tr>\n",
              "    </tbody>\n",
              "</table>"
            ],
            "text/plain": [
              "[('m', '1', 'm'), ('m', '1', 'm')]"
            ]
          },
          "metadata": {
            "tags": []
          },
          "execution_count": 9
        }
      ]
    },
    {
      "cell_type": "code",
      "metadata": {
        "id": "oUwumQgkb-zE"
      },
      "source": [
        "# Challenge 2\n",
        "# Using the Governments appointments dataset, \n",
        "# Let's merge the person appointing field with the appointers position field\n",
        "#\n",
        "%%sql  \n",
        "SELECT*, Position_ || ', ' || Apointers_Position AS Appointer_1\n",
        "FROM government_appointments LIMIT 5;"
      ],
      "execution_count": null,
      "outputs": []
    },
    {
      "cell_type": "code",
      "metadata": {
        "id": "Dmotlbe8b_xE"
      },
      "source": [
        "# Challenge 3\n",
        "# Using the Population by District dataset, \n",
        "# let's change the values of the District column to lowercase \n",
        "# and display these values in a new column \n",
        "# \n",
        "%%sql\n",
        "SELECT *, LOWER(District) AS \"District Name\"\n",
        "FROM Districtdataset LIMIT 5;"
      ],
      "execution_count": null,
      "outputs": []
    },
    {
      "cell_type": "markdown",
      "metadata": {
        "id": "dyTun0GIbK67"
      },
      "source": [
        "## 1.3 Time Strings"
      ]
    },
    {
      "cell_type": "code",
      "metadata": {
        "id": "v45ZeTF8cFXq"
      },
      "source": [
        "# Example 1\n",
        "# You can work with time data just like any other kind of data type \n",
        "# when it is in the time format; HH:MM:SS\n",
        "# Let's answer some questions to see how this works\n",
        "# Question: Which athletes took time between 15.30 and 15.59 to pass the 5K mark?\n",
        "# NB: We order the results\n",
        "#\n",
        "%%sql \n",
        "SELECT Name, \"5K\" FROM MarathonResults \n",
        "WHERE \"5K\" > '0:15:30' and \"5K\" < '0:15:59' ORDER BY \"5K\" ASC;"
      ],
      "execution_count": null,
      "outputs": []
    },
    {
      "cell_type": "code",
      "metadata": {
        "id": "M08B6GRcxuuo"
      },
      "source": [
        "# Example 2\n",
        "# Finding the minimum amount of time taken to cover 15K by an athlete during the marathon. \n",
        "# Hint: We use a where clause to ignore null/blank values - we will learn how to \n",
        "# deal with such values later in the course\n",
        "# \n",
        "%%sql\n",
        "SELECT MIN(\"5K\") \n",
        "FROM MarathonResults \n",
        "WHERE \"5K\" > 0;"
      ],
      "execution_count": null,
      "outputs": []
    },
    {
      "cell_type": "code",
      "metadata": {
        "id": "lWtS8KupcHhr"
      },
      "source": [
        "# Example 3\n",
        "# What was the average time covered by all athletes past the 10K mark?\n",
        "# \n",
        "%%sql\n",
        "SELECT time(AVG(\"10K\")) \n",
        "FROM MarathonResults \n",
        "WHERE \"10K\" > 0;"
      ],
      "execution_count": null,
      "outputs": []
    },
    {
      "cell_type": "markdown",
      "metadata": {
        "id": "pS4CWYNGcJZw"
      },
      "source": [
        "### <font color=\"green\">1.3 Challenges</font>"
      ]
    },
    {
      "cell_type": "code",
      "metadata": {
        "id": "Bj3oh1apLQDO"
      },
      "source": [
        "%%sql\n",
        "SELECT * FROM MarathonResults LIMIT 1\n"
      ],
      "execution_count": null,
      "outputs": []
    },
    {
      "cell_type": "code",
      "metadata": {
        "id": "-1a8zfZFcCHg"
      },
      "source": [
        "# Challenge 1\n",
        "# What were the names and time of the athletes who finished the marathon before 2hrs 15min official time?\n",
        "# NB: Order your names by time in ascending order\n",
        "# \n",
        "%%sql \n",
        "SELECT Name,\"Official Time\" FROM MarathonResults \n",
        "WHERE \"Official Time\"<'2:15:00' AND \"40K\">0"
      ],
      "execution_count": null,
      "outputs": []
    },
    {
      "cell_type": "code",
      "metadata": {
        "id": "0SaAJYQ1cDTo"
      },
      "source": [
        "# Challenge 2\n",
        "# Which countries came top 3 in completing the marathon before 2hrs 15min?\n",
        "#\n",
        "%%sql \n",
        "SELECT (Country), \"Official Time\" FROM MarathonResults \n",
        "WHERE \"Official Time\"<\"2:15:00\" \n",
        "LIMIT 3"
      ],
      "execution_count": null,
      "outputs": []
    },
    {
      "cell_type": "code",
      "metadata": {
        "id": "6t6YOOZXcEac"
      },
      "source": [
        "# Challenge 3\n",
        "# How many athletes ran 30K under 1hr 34min? Name these athletes.\n",
        "# \n",
        "%%sql\n",
        "SELECT Name,\"30K\" from Marathonresults\n",
        "WHERE \"30K\"!='-' and \"30K\"<'1:34:00'"
      ],
      "execution_count": null,
      "outputs": []
    },
    {
      "cell_type": "markdown",
      "metadata": {
        "id": "JkZaAjv-bSPO"
      },
      "source": [
        "## 1.4 Date Strings"
      ]
    },
    {
      "cell_type": "code",
      "metadata": {
        "id": "Tne2OvPScRy8"
      },
      "source": [
        "# Example 1\n",
        "# At times we would like to work with the data that is stored in the form of dates\n",
        "# However, this kind of data can be really difficult to work with if it is not stored\n",
        "# in datetime Data Type i.e. YYYY-MM-DD HH:MM:SS. It can even be misleading while \n",
        "# performing operations to our data. \n",
        "# Thus, when we get a dataset such as the one previewed below we will note that the datetime data \n",
        "# within the \"Date_End_of_Quater\" column is not in the datetime Data Type. \n",
        "# We will need to fix this;\n",
        "# \n",
        "%sql SELECT * FROM KenyanVisitors LIMIT 5;"
      ],
      "execution_count": null,
      "outputs": []
    },
    {
      "cell_type": "code",
      "metadata": {
        "id": "ayyBRzHXPrI7"
      },
      "source": [
        "# Example 2\n",
        "# In order to convert this kind of data to this format YYYY-MM-DD HH:MM:SS, \n",
        "# we would need to use the substring function. \n",
        "# An example of how the SQL substring function works is as shown in the SQL command\n",
        "# in this cell;\n",
        "# NB: Run this cell several times as you make changes to the numerial parameters 1, 6 \n",
        "# and then observe the output after running this cell\n",
        "#\n",
        "%%sql\n",
        "SELECT substr('SQL Tutorial', 7, 4) AS ExtractString;"
      ],
      "execution_count": null,
      "outputs": []
    },
    {
      "cell_type": "code",
      "metadata": {
        "id": "IVS-kshycRqd"
      },
      "source": [
        "# Example 3\n",
        "# Let's now select the \"Date_End_of_Quater\" data in the datetime data type format.\n",
        "# We will apply the SQL substr function to the respective column\n",
        "# then select the characters specifying our range then concatenating (combining)\n",
        "# the selected substrings.\n",
        "#  \n",
        "%%sql\n",
        "SELECT substr(\"Date_End_of_Quater\", 7, 4) \n",
        "|| \"-\" || substr(\"Date_End_of_Quater\", 4, 2) \n",
        "|| \"-\" || substr(\"Date_End_of_Quater\", 1, 2) \n",
        "|| \" \" || substr(\"Date_End_of_Quater\", 12,9)\n",
        "AS New_Date_End_of_Quarter\n",
        "FROM KenyanVisitors Limit 5;"
      ],
      "execution_count": null,
      "outputs": []
    },
    {
      "cell_type": "code",
      "metadata": {
        "id": "Nij-PotCmZQC"
      },
      "source": [
        "# Example 4\n",
        "# Once we are certain that the selected data is in the datetime data type format,\n",
        "# we can then update the table as shown; Remember we learnt how to update data \n",
        "# in our table last week? :) \n",
        "# This will allow us to start using that updated table for further investigation\n",
        "# \n",
        "%%sql\n",
        "UPDATE KenyanVisitors \n",
        "set \"Date_End_of_Quater\" = substr(\"Date_End_of_Quater\", 7, 4) \n",
        "|| \"-\" || substr(\"Date_End_of_Quater\", 4, 2) \n",
        "|| \"-\" || substr(\"Date_End_of_Quater\", 1, 2) \n",
        "|| \" \" || substr(\"Date_End_of_Quater\", 12,9)\n",
        "\n",
        "\n",
        "as \"Date_End_of_Quater\"\n"
      ],
      "execution_count": null,
      "outputs": []
    },
    {
      "cell_type": "code",
      "metadata": {
        "id": "_V5F2sd8n6Gl"
      },
      "source": [
        "# Example 5\n",
        "# We can preview our dataset below so as to note the changes we have made to our \n",
        "# \"Date_End_of_Quater\" column which now looks super :) \n",
        "# \n",
        "%%sql\n",
        "SELECT * \n",
        "FROM KenyanVisitors Limit 5; "
      ],
      "execution_count": null,
      "outputs": []
    },
    {
      "cell_type": "code",
      "metadata": {
        "id": "wGr96euaW6up"
      },
      "source": [
        "# Example 6\n",
        "# We now continue into investigating our dataset; We answer the following question;\n",
        "# Which arrivals and depatures happened before 10th June, 1991?  \n",
        "# Solution:\n",
        "#\n",
        "%%sql\n",
        "SELECT * \n",
        "FROM KenyanVisitors \n",
        "WHERE \"Date_End_of_Quater\" < '1991-30-10';"
      ],
      "execution_count": null,
      "outputs": []
    },
    {
      "cell_type": "code",
      "metadata": {
        "id": "wz4km85zcRiD"
      },
      "source": [
        "# Example 7\n",
        "# Which arrivals and depatures happened after 30th June 2000?  \n",
        "#\n",
        "OUR CODE GOES HERE"
      ],
      "execution_count": null,
      "outputs": []
    },
    {
      "cell_type": "markdown",
      "metadata": {
        "id": "VIT5Iy-kcSMl"
      },
      "source": [
        "### <font color=\"green\">1.4 Challenges</font>"
      ]
    },
    {
      "cell_type": "code",
      "metadata": {
        "id": "BRWaaWEUcRal"
      },
      "source": [
        "# Challenge\n",
        "# Using the tea_production dataset, which three dates had tea production \n",
        "# before the date with the most tea production?\n",
        "#\n",
        "%%sql\n",
        "SELECT DATE FROM tea_production\n",
        "WHERE Millions_in_KGS_<46.8"
      ],
      "execution_count": null,
      "outputs": []
    }
  ]
}